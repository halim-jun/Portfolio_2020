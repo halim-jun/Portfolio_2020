{
 "cells": [
  {
   "cell_type": "markdown",
   "metadata": {},
   "source": [
    "# A/B Testing "
   ]
  },
  {
   "cell_type": "markdown",
   "metadata": {},
   "source": [
    "Cookie Cat 은 귀여운 고양이가 나오는 모바일 게임입니다.    \n",
    "[게임링크](https://play.google.com/store/apps/details?id=dk.tactile.cookiecats&hl=en&gl=US)   \n",
    "\n",
    "유저들은 초반에는 편하게 게임을 즐길 수 있습니다. 그러나 어느 순간이 되면 광고를 보거나 인앱 결제를 진행하라는 문구를 보게 됩니다.    \n",
    "해당 문구를 언제 배치하는게 좋을까요?     \n",
    "30번째 관문 (Gate 30)일까요 혹은 40번째 관문 (Gate 40) 일까요?   "
   ]
  },
  {
   "cell_type": "markdown",
   "metadata": {},
   "source": [
    "### summary\n",
    "\n",
    "1) 전처리 : 기본적인 데이터 확인 및 전처리   \n",
    "2) 분포 확인 : 통계 분석을 하기 전 전체적인 데이터의 분포를 확인하였습니다. 이를 통해 데이터가 충분히 균형있는지 확인하였습니다.   \n",
    "3) A/B 테스트 : 3개의 metric (총 게임 시행 횟수, 1일 뒤 다시 게임 실행 여부, 7일 뒤 게임 실행 여부) 에 대해 Gate 30, 40 이 미치는 영향에 대해서 A/B test 수행하였습니다.   \n",
    "- 가설을 세우고 통계적으로 검증하였습니다 (순열 리샘플링을 통한 분포 확인, pvalue 도출, alpha=0.5)  "
   ]
  },
  {
   "cell_type": "code",
   "execution_count": 135,
   "metadata": {},
   "outputs": [],
   "source": [
    "from IPython.display import Image\n",
    "import pandas as pd\n",
    "import os \n",
    "import matplotlib.pyplot as plt\n",
    "import seaborn as sns\n",
    "import numpy as np"
   ]
  },
  {
   "cell_type": "code",
   "execution_count": 4,
   "metadata": {},
   "outputs": [
    {
     "data": {
      "text/html": [
       "<div>\n",
       "<style scoped>\n",
       "    .dataframe tbody tr th:only-of-type {\n",
       "        vertical-align: middle;\n",
       "    }\n",
       "\n",
       "    .dataframe tbody tr th {\n",
       "        vertical-align: top;\n",
       "    }\n",
       "\n",
       "    .dataframe thead th {\n",
       "        text-align: right;\n",
       "    }\n",
       "</style>\n",
       "<table border=\"1\" class=\"dataframe\">\n",
       "  <thead>\n",
       "    <tr style=\"text-align: right;\">\n",
       "      <th></th>\n",
       "      <th>userid</th>\n",
       "      <th>version</th>\n",
       "      <th>sum_gamerounds</th>\n",
       "      <th>retention_1</th>\n",
       "      <th>retention_7</th>\n",
       "    </tr>\n",
       "  </thead>\n",
       "  <tbody>\n",
       "    <tr>\n",
       "      <th>0</th>\n",
       "      <td>116</td>\n",
       "      <td>gate_30</td>\n",
       "      <td>3</td>\n",
       "      <td>False</td>\n",
       "      <td>False</td>\n",
       "    </tr>\n",
       "    <tr>\n",
       "      <th>1</th>\n",
       "      <td>337</td>\n",
       "      <td>gate_30</td>\n",
       "      <td>38</td>\n",
       "      <td>True</td>\n",
       "      <td>False</td>\n",
       "    </tr>\n",
       "    <tr>\n",
       "      <th>2</th>\n",
       "      <td>377</td>\n",
       "      <td>gate_40</td>\n",
       "      <td>165</td>\n",
       "      <td>True</td>\n",
       "      <td>False</td>\n",
       "    </tr>\n",
       "    <tr>\n",
       "      <th>3</th>\n",
       "      <td>483</td>\n",
       "      <td>gate_40</td>\n",
       "      <td>1</td>\n",
       "      <td>False</td>\n",
       "      <td>False</td>\n",
       "    </tr>\n",
       "    <tr>\n",
       "      <th>4</th>\n",
       "      <td>488</td>\n",
       "      <td>gate_40</td>\n",
       "      <td>179</td>\n",
       "      <td>True</td>\n",
       "      <td>True</td>\n",
       "    </tr>\n",
       "  </tbody>\n",
       "</table>\n",
       "</div>"
      ],
      "text/plain": [
       "   userid  version  sum_gamerounds  retention_1  retention_7\n",
       "0     116  gate_30               3        False        False\n",
       "1     337  gate_30              38         True        False\n",
       "2     377  gate_40             165         True        False\n",
       "3     483  gate_40               1        False        False\n",
       "4     488  gate_40             179         True         True"
      ]
     },
     "execution_count": 4,
     "metadata": {},
     "output_type": "execute_result"
    }
   ],
   "source": [
    "path=os.getenv('HOME')+'/Base_DataScience/cookie_cats.csv'\n",
    "df=pd.read_csv(path)\n",
    "#각 고객의 데이터 입니다. 어떤 고객은 30번에, 어떤 고객은 40번에 결제 권유 팝업이 떠 있는 것을 볼 수 있습니다. \n",
    "#이 두 집단의 A/B test 결과를 확인하여 어떤 웹 구성이 더 비즈니스에 이로운지 판단하도록 하겠습니다.\n"
   ]
  },
  {
   "cell_type": "code",
   "execution_count": 127,
   "metadata": {},
   "outputs": [],
   "source": [
    "#지표\n",
    "    #Version : A,B 그룹 (Gate_30 : 30번 플레이 후 인앱 구매 요구, Gate40 : 40번 플레이 후 인앱 구매 요구)\n",
    "    #Sum_gamerounds:설치 후 14일 동안 게임 이용 수\n",
    "    #retention_1: 설치 1일 후 다시 게임을 이용했나?\n",
    "    #retention_7: 설치 7일 후 다시 게임을 이용했나?"
   ]
  },
  {
   "cell_type": "markdown",
   "metadata": {},
   "source": [
    "# 1. 전처리"
   ]
  },
  {
   "cell_type": "code",
   "execution_count": 8,
   "metadata": {},
   "outputs": [
    {
     "data": {
      "text/plain": [
       "userid            0\n",
       "version           0\n",
       "sum_gamerounds    0\n",
       "retention_1       0\n",
       "retention_7       0\n",
       "dtype: int64"
      ]
     },
     "execution_count": 8,
     "metadata": {},
     "output_type": "execute_result"
    }
   ],
   "source": [
    "#1) 누락 확인\n",
    "df.isna().sum() #누락 없음"
   ]
  },
  {
   "cell_type": "code",
   "execution_count": 15,
   "metadata": {},
   "outputs": [
    {
     "data": {
      "image/png": "[encoded data removed]",
      "text/plain": [
       "<Figure size 432x288 with 1 Axes>"
      ]
     },
     "metadata": {
      "needs_background": "light"
     },
     "output_type": "display_data"
    }
   ],
   "source": [
    "#2) 이상치 확인\n",
    "plt.hist(df.sum_gamerounds, bins=50)\n",
    "plt.show()"
   ]
  },
  {
   "cell_type": "code",
   "execution_count": 16,
   "metadata": {},
   "outputs": [
    {
     "data": {
      "text/plain": [
       "count    90189.000000\n",
       "mean        51.872457\n",
       "std        195.050858\n",
       "min          0.000000\n",
       "25%          5.000000\n",
       "50%         16.000000\n",
       "75%         51.000000\n",
       "max      49854.000000\n",
       "Name: sum_gamerounds, dtype: float64"
      ]
     },
     "execution_count": 16,
     "metadata": {},
     "output_type": "execute_result"
    }
   ],
   "source": [
    "#총 게임 플레이수에서 49000이 넘는 수치가 나온다 : 이상치로 보인다. -> 추가 확인작업\n",
    "df.sum_gamerounds.describe()"
   ]
  },
  {
   "cell_type": "code",
   "execution_count": 19,
   "metadata": {},
   "outputs": [
    {
     "data": {
      "text/html": [
       "<div>\n",
       "<style scoped>\n",
       "    .dataframe tbody tr th:only-of-type {\n",
       "        vertical-align: middle;\n",
       "    }\n",
       "\n",
       "    .dataframe tbody tr th {\n",
       "        vertical-align: top;\n",
       "    }\n",
       "\n",
       "    .dataframe thead th {\n",
       "        text-align: right;\n",
       "    }\n",
       "</style>\n",
       "<table border=\"1\" class=\"dataframe\">\n",
       "  <thead>\n",
       "    <tr style=\"text-align: right;\">\n",
       "      <th></th>\n",
       "      <th>userid</th>\n",
       "      <th>version</th>\n",
       "      <th>sum_gamerounds</th>\n",
       "      <th>retention_1</th>\n",
       "      <th>retention_7</th>\n",
       "    </tr>\n",
       "  </thead>\n",
       "  <tbody>\n",
       "    <tr>\n",
       "      <th>57702</th>\n",
       "      <td>6390605</td>\n",
       "      <td>gate_30</td>\n",
       "      <td>49854</td>\n",
       "      <td>False</td>\n",
       "      <td>True</td>\n",
       "    </tr>\n",
       "    <tr>\n",
       "      <th>7912</th>\n",
       "      <td>871500</td>\n",
       "      <td>gate_30</td>\n",
       "      <td>2961</td>\n",
       "      <td>True</td>\n",
       "      <td>True</td>\n",
       "    </tr>\n",
       "    <tr>\n",
       "      <th>29417</th>\n",
       "      <td>3271615</td>\n",
       "      <td>gate_40</td>\n",
       "      <td>2640</td>\n",
       "      <td>True</td>\n",
       "      <td>False</td>\n",
       "    </tr>\n",
       "    <tr>\n",
       "      <th>43671</th>\n",
       "      <td>4832608</td>\n",
       "      <td>gate_30</td>\n",
       "      <td>2438</td>\n",
       "      <td>True</td>\n",
       "      <td>True</td>\n",
       "    </tr>\n",
       "    <tr>\n",
       "      <th>48188</th>\n",
       "      <td>5346171</td>\n",
       "      <td>gate_40</td>\n",
       "      <td>2294</td>\n",
       "      <td>True</td>\n",
       "      <td>True</td>\n",
       "    </tr>\n",
       "    <tr>\n",
       "      <th>46344</th>\n",
       "      <td>5133952</td>\n",
       "      <td>gate_30</td>\n",
       "      <td>2251</td>\n",
       "      <td>True</td>\n",
       "      <td>True</td>\n",
       "    </tr>\n",
       "    <tr>\n",
       "      <th>87007</th>\n",
       "      <td>9640085</td>\n",
       "      <td>gate_30</td>\n",
       "      <td>2156</td>\n",
       "      <td>True</td>\n",
       "      <td>True</td>\n",
       "    </tr>\n",
       "    <tr>\n",
       "      <th>36933</th>\n",
       "      <td>4090246</td>\n",
       "      <td>gate_40</td>\n",
       "      <td>2124</td>\n",
       "      <td>True</td>\n",
       "      <td>True</td>\n",
       "    </tr>\n",
       "    <tr>\n",
       "      <th>88328</th>\n",
       "      <td>9791599</td>\n",
       "      <td>gate_40</td>\n",
       "      <td>2063</td>\n",
       "      <td>True</td>\n",
       "      <td>True</td>\n",
       "    </tr>\n",
       "    <tr>\n",
       "      <th>6536</th>\n",
       "      <td>725080</td>\n",
       "      <td>gate_40</td>\n",
       "      <td>2015</td>\n",
       "      <td>True</td>\n",
       "      <td>True</td>\n",
       "    </tr>\n",
       "  </tbody>\n",
       "</table>\n",
       "</div>"
      ],
      "text/plain": [
       "        userid  version  sum_gamerounds  retention_1  retention_7\n",
       "57702  6390605  gate_30           49854        False         True\n",
       "7912    871500  gate_30            2961         True         True\n",
       "29417  3271615  gate_40            2640         True        False\n",
       "43671  4832608  gate_30            2438         True         True\n",
       "48188  5346171  gate_40            2294         True         True\n",
       "46344  5133952  gate_30            2251         True         True\n",
       "87007  9640085  gate_30            2156         True         True\n",
       "36933  4090246  gate_40            2124         True         True\n",
       "88328  9791599  gate_40            2063         True         True\n",
       "6536    725080  gate_40            2015         True         True"
      ]
     },
     "execution_count": 19,
     "metadata": {},
     "output_type": "execute_result"
    }
   ],
   "source": [
    "#정렬해보니 최대값 1개만 49850 이고 나머지는 2900까지 어느정도 순차적으로 분포되어있다. => 해당 이상치는 제거하기로 한다. \n",
    "df.sort_values(by='sum_gamerounds', ascending=False).head(10)"
   ]
  },
  {
   "cell_type": "code",
   "execution_count": 23,
   "metadata": {},
   "outputs": [],
   "source": [
    "df=df[df.index!=57702]"
   ]
  },
  {
   "cell_type": "markdown",
   "metadata": {},
   "source": [
    "# 2. 분포 확인\n",
    "\n",
    "### 1) Version (A/B) 분포"
   ]
  },
  {
   "cell_type": "code",
   "execution_count": 25,
   "metadata": {},
   "outputs": [
    {
     "data": {
      "text/plain": [
       "version\n",
       "gate_30    0.49562\n",
       "gate_40    0.50438\n",
       "dtype: float64"
      ]
     },
     "execution_count": 25,
     "metadata": {},
     "output_type": "execute_result"
    }
   ],
   "source": [
    "\n",
    "#데이터의 분포는 거의 균일하다 (각각, 49, 50% 를 차지하고 있다)\n",
    "df.groupby('version').size()/len(df)"
   ]
  },
  {
   "cell_type": "markdown",
   "metadata": {},
   "source": [
    "### 2) Retention 분포"
   ]
  },
  {
   "cell_type": "code",
   "execution_count": 31,
   "metadata": {},
   "outputs": [
    {
     "data": {
      "text/plain": [
       "retention_1\n",
       "False    0.554786\n",
       "True     0.445214\n",
       "dtype: float64"
      ]
     },
     "execution_count": 31,
     "metadata": {},
     "output_type": "execute_result"
    }
   ],
   "source": [
    "df.groupby('retention_1').size()/len(df)"
   ]
  },
  {
   "cell_type": "code",
   "execution_count": 30,
   "metadata": {},
   "outputs": [
    {
     "data": {
      "text/plain": [
       "retention_7\n",
       "False    0.813944\n",
       "True     0.186056\n",
       "dtype: float64"
      ]
     },
     "execution_count": 30,
     "metadata": {},
     "output_type": "execute_result"
    }
   ],
   "source": [
    "df.groupby('retention_7').size()/len(df)"
   ]
  },
  {
   "cell_type": "code",
   "execution_count": 38,
   "metadata": {},
   "outputs": [
    {
     "data": {
      "text/plain": [
       "<AxesSubplot:xlabel='sum_gamerounds'>"
      ]
     },
     "execution_count": 38,
     "metadata": {},
     "output_type": "execute_result"
    },
    {
     "data": {
      "image/png": "[encoded data removed]",
      "text/plain": [
       "<Figure size 432x288 with 1 Axes>"
      ]
     },
     "metadata": {
      "needs_background": "light"
     },
     "output_type": "display_data"
    }
   ],
   "source": [
    "game=df.groupby(\"sum_gamerounds\")['userid'].count()\n",
    "game.plot()"
   ]
  },
  {
   "cell_type": "markdown",
   "metadata": {},
   "source": [
    "# 3. A/B 테스트"
   ]
  },
  {
   "cell_type": "markdown",
   "metadata": {},
   "source": [
    "## 1) Sum_gamerounds - 가설 : 30 그룹이 이 40 그룹보다 14일간 총 게임 플레이 횟수가 높을 것이다. \n",
    "\n",
    "- Ho: gate 30's(GroupA) sum_gamerounds = gate 40's(GroupA) sum_gamerounds \n",
    "- Ha: gate 30's(GroupA) sum_gamerounds > gate 40's(GroupA) sum_gamerounds \n",
    "\n",
    "alpha=0.05\n",
    "\n",
    "*Gate_30 : 30번 게임 후 인앱 구매 알림 / Gate_40 : 40번 구매후 인앱 구매 알림\n",
    "*Sum_gamerounds: 설치 후 14일간 게임 플레이 수"
   ]
  },
  {
   "cell_type": "code",
   "execution_count": 79,
   "metadata": {},
   "outputs": [
    {
     "data": {
      "text/plain": [
       "<AxesSubplot:xlabel='version', ylabel='sum_gamerounds'>"
      ]
     },
     "execution_count": 79,
     "metadata": {},
     "output_type": "execute_result"
    },
    {
     "data": {
      "image/png": "[encoded data removed]",
      "text/plain": [
       "<Figure size 432x288 with 1 Axes>"
      ]
     },
     "metadata": {
      "needs_background": "light"
     },
     "output_type": "display_data"
    }
   ],
   "source": [
    "#우리가 가진 통계량 확인\n",
    "sns.boxplot(x='version', y='sum_gamerounds', data=df[df['sum_gamerounds']<200])"
   ]
  },
  {
   "cell_type": "markdown",
   "metadata": {},
   "source": [
    "### Permutation test 를 통해 도출한 차이가 통계적으로 유의미한지 확인할 것이다. "
   ]
  },
  {
   "cell_type": "code",
   "execution_count": 85,
   "metadata": {},
   "outputs": [
    {
     "data": {
      "text/plain": [
       "0.04333503360787461"
      ]
     },
     "execution_count": 85,
     "metadata": {},
     "output_type": "execute_result"
    }
   ],
   "source": [
    "gate_30=df[df['version']=='gate_30']\n",
    "gate_40=df[df['version']=='gate_40']\n",
    "mean_sampel_difference=gate_30['sum_gamerounds'].mean()-gate_40['sum_gamerounds'].mean()\n",
    "mean_sampel_difference\n",
    "# 전체적으로 봤을때 Gate 30이 40 보다 0.04만큼 30이 더 높다. 해당의 오차는 유의미할까?"
   ]
  },
  {
   "cell_type": "code",
   "execution_count": 68,
   "metadata": {},
   "outputs": [],
   "source": [
    "a=sum(df['version']=='gate_30')\n",
    "b=sum(df['version']=='gate_40')"
   ]
  },
  {
   "cell_type": "code",
   "execution_count": 72,
   "metadata": {},
   "outputs": [],
   "source": [
    "mean_diff_list=[]\n",
    "for i in range(1000):\n",
    "    a_table=df.sample(n=a)\n",
    "    b_table=df[~df.index.isin(a_table.index)]\n",
    "    mean_diff=a_table['sum_gamerounds'].mean()-b_table['sum_gamerounds'].mean()\n",
    "    mean_diff_list.append(mean_diff)"
   ]
  },
  {
   "cell_type": "code",
   "execution_count": 86,
   "metadata": {},
   "outputs": [
    {
     "data": {
      "image/png": "[encoded data removed]",
      "text/plain": [
       "<Figure size 432x288 with 1 Axes>"
      ]
     },
     "metadata": {
      "needs_background": "light"
     },
     "output_type": "display_data"
    }
   ],
   "source": [
    "#헤당 그래프는 순열 리샘플링을 통해서 확인한 일반적인 두 샘플의 round 차이이다.\n",
    "#빨간 선이 우리가 가진 표본값이다. (두 집단의 평균 sum game rounds 차리)\n",
    "plt.hist(mean_diff_list, bins=50)\n",
    "plt.axvline(x=mean_sampel_difference, color='r')\n",
    "plt.show()\n"
   ]
  },
  {
   "cell_type": "code",
   "execution_count": 106,
   "metadata": {},
   "outputs": [
    {
     "data": {
      "text/plain": [
       "0.479"
      ]
     },
     "execution_count": 106,
     "metadata": {},
     "output_type": "execute_result"
    }
   ],
   "source": [
    "#Pvalue 는 빨간선 오른쪽 영역의 확률값 : 0.479로 매우 높음 => alpha 0.9 > p value\n",
    "#가설 기각\n",
    "# 30초 후에 보여주나 40초 후에 보여주나 유저의 게임 활동 횟수에 큰 차이가 없다.\n",
    "sum(np.array(mean_diff_list)>mean_sampel_difference)/len(mean_diff_list)"
   ]
  },
  {
   "cell_type": "markdown",
   "metadata": {},
   "source": [
    "## 2) Retention1 - 가설 : A 그룹이 B 그룹보다 Retention_1이 높을 것이다."
   ]
  },
  {
   "cell_type": "markdown",
   "metadata": {},
   "source": [
    "- Ho : A(gate_30) 의 retention_1 = B(gate_40) 의 retention_1\n",
    "- Ha : A(gate_30) 의 retention_1 > B(gate_40) 의 retention_1\n",
    "- alpha = 0.05   \n",
    "\n",
    "*Gate_30 : 30번 게임 후 인앱 구매 알림 / Gate_40 : 40번 구매후 인앱 구매 알림   \n",
    "*Retention_1: 다운로드 1일 후 게임 계속 플레이 하는가? "
   ]
  },
  {
   "cell_type": "code",
   "execution_count": 121,
   "metadata": {},
   "outputs": [],
   "source": [
    "def permutation_test(metrics):\n",
    "    mean_diff_list=[]\n",
    "    a=sum(df['version']=='gate_30')\n",
    "    b=sum(df['version']=='gate_40')\n",
    "    for i in range(1000):\n",
    "        a_table=df.sample(n=a)\n",
    "        b_table=df[~df.index.isin(a_table.index)]\n",
    "        mean_diff=a_table[metrics].sum()/a-b_table[metrics].sum()/b\n",
    "        mean_diff_list.append(mean_diff)\n",
    "    mean_sample_difference=mean_sampel_difference=gate_30[metrics].sum()/a-gate_40[metrics].sum()/b\n",
    "\n",
    "    plt.hist(mean_diff_list, bins=50)\n",
    "    plt.axvline(x=mean_sampel_difference, color='r')\n",
    "    plt.show()\n",
    "    return sum(np.array(mean_diff_list)>mean_sampel_difference)/len(mean_diff_list)"
   ]
  },
  {
   "cell_type": "code",
   "execution_count": 122,
   "metadata": {},
   "outputs": [
    {
     "data": {
      "image/png": "[encoded data removed]",
      "text/plain": [
       "<Figure size 432x288 with 1 Axes>"
      ]
     },
     "metadata": {
      "needs_background": "light"
     },
     "output_type": "display_data"
    },
    {
     "data": {
      "text/plain": [
       "0.035"
      ]
     },
     "execution_count": 122,
     "metadata": {},
     "output_type": "execute_result"
    }
   ],
   "source": [
    "### p-value(0.035)<alpha(0.5) 이므로 기각, A 그룹이 B 그룹보다 Retention_1 이 높다. \n",
    "\n",
    "permutation_test('retention_1')"
   ]
  },
  {
   "cell_type": "markdown",
   "metadata": {},
   "source": [
    "## 3) Retention_7 : A그룹이 B그룹보다 Retention_7 이 높을 것이다.\n",
    "\n"
   ]
  },
  {
   "cell_type": "markdown",
   "metadata": {},
   "source": [
    "- Ho : A(gate_30) 의 retention_7 = B(gate_40) 의 retention_7\n",
    "- Ha : A(gate_30) 의 retention_7 > B(gate_40) 의 retention_7\n",
    "- alpha = 0.05"
   ]
  },
  {
   "cell_type": "code",
   "execution_count": 126,
   "metadata": {},
   "outputs": [
    {
     "data": {
      "image/png": "[encoded data removed]",
      "text/plain": [
       "<Figure size 432x288 with 1 Axes>"
      ]
     },
     "metadata": {
      "needs_background": "light"
     },
     "output_type": "display_data"
    },
    {
     "data": {
      "text/plain": [
       "0.001"
      ]
     },
     "execution_count": 126,
     "metadata": {},
     "output_type": "execute_result"
    }
   ],
   "source": [
    "### p-value(0.001)<alpha(0.5) 이므로 기각, A 그룹이 B 그룹보다 Retention_1 이 높다. \n",
    "\n",
    "permutation_test('retention_7')"
   ]
  },
  {
   "cell_type": "code",
   "execution_count": null,
   "metadata": {},
   "outputs": [],
   "source": []
  },
  {
   "cell_type": "code",
   "execution_count": null,
   "metadata": {},
   "outputs": [],
   "source": []
  },
  {
   "cell_type": "code",
   "execution_count": null,
   "metadata": {},
   "outputs": [],
   "source": []
  }
 ],
 "metadata": {
  "kernelspec": {
   "display_name": "Python 3",
   "language": "python",
   "name": "python3"
  },
  "language_info": {
   "codemirror_mode": {
    "name": "ipython",
    "version": 3
   },
   "file_extension": ".py",
   "mimetype": "text/x-python",
   "name": "python",
   "nbconvert_exporter": "python",
   "pygments_lexer": "ipython3",
   "version": "3.7.9"
  }
 },
 "nbformat": 4,
 "nbformat_minor": 4
}
