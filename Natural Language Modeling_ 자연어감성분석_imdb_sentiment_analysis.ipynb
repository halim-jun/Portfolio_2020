{
 "cells": [
  {
   "cell_type": "markdown",
   "metadata": {},
   "source": [
    "# Summary\n",
    "\n",
    "- Problem statement: \n",
    "#### Binary Sentiment classification (positive, negative) of sentences\n",
    "- Solution : RNN\n",
    "- Data : Movie Review data (Imdb dataset)\n",
    "- Result : 87% Accuracy\n",
    "    + big L2 reg term (lambda : 0.1)\n",
    "    + 8 neuron on LSTM\n",
    "    + 8 neuron on Dense\n",
    "    + Vocab size : 10000\n",
    "    + word vector dimension : 10\n",
    "    + train size : 40000 -> 45000\n",
    "    + validation set size : 10000 -> 5000\n",
    "    + test size : 10000\n",
    "- Enlarging traning data and increasing regularization terms to evade overfitting was most effective in reaching best performance\n",
    "\n",
    "# Learning\n",
    "\n",
    "- Tried various methods to increase test case accuracy\n",
    "    - regularization\n",
    "    - Increasing the training set size\n",
    "    - Changing the model structure (manipulating the number of laers, neurons)\n",
    "    - Utilizing google's pretrained word2vec\n",
    "    - Applying multiple models including CNN, RNN\n",
    "\n",
    "- Learning 1: Most influential change \n",
    "    - Regularization : About 1% increase in accuracy(84 -> 85)\n",
    "    - Upsizing the training data : About 2% increase in accuracy(85 -> 87%)\n",
    "    \n",
    "- Learning 2 : What did not made a meaningful impact\n",
    "    - google'e pretrainied word2vec model didn't improved the model's accuracy, but rather caused time/data memory inefficiency with its' huge size\n",
    "    - impressed by how CNN and RNN showed similar result (Note that CNN was not regularized) because this was a sequential data where rnn should show a better result\n",
    "    \n",
    "------------------------------------\n",
    "\n",
    "- Test accuracy 를 높이기 위해서 다양한 시도를 함\n",
    "    - 정규화\n",
    "    - 트레이닝 데이터 수 증가\n",
    "    - 모델 변화 (레이어 추가/감소, 뉴런 추가 감소)\n",
    "    - google 의 pretrainined word2vec 사용\n",
    "    - CNN, RNN 등 다양한 모델 활용\n",
    "- Learning1 : \n",
    "    - 정규화의 효과 : 약 1% accuracy 증가 (84 -> 85% test set accuracy)\n",
    "    - 트레이닝 데이터 수 증가 : 약 2% accuracy 증가 (85 -> 87% test set accuracy)\n",
    "  이 가장 큰 효과가 있었음\n",
    "- Learning 2 :\n",
    "    - google 의 pretrained word2vec 사용은 유의미한 accuracy 변화가 없었고, 오히려 해당 데이터를 불러오는데 커널이 꺼지는 비효율을 발생시킴\n",
    "    - CNN과 RNN의 효과가 거의 유사했던 것이 인상적 (단 CNN 에서는 regularize 하지 않았음)\n",
    "    "
   ]
  },
  {
   "cell_type": "markdown",
   "metadata": {
    "colab_type": "text",
    "id": "AjCKEQYqN5YW"
   },
   "source": [
    "# 1. Import packages, dataset etc"
   ]
  },
  {
   "cell_type": "code",
   "execution_count": 2,
   "metadata": {
    "colab": {
     "base_uri": "https://localhost:8080/",
     "height": 34
    },
    "colab_type": "code",
    "id": "EpAOxaTKZ5Er",
    "outputId": "9d44ef77-3220-4ed0-d5f0-f7c78011be44"
   },
   "outputs": [
    {
     "name": "stderr",
     "output_type": "stream",
     "text": [
      "Using TensorFlow backend.\n"
     ]
    }
   ],
   "source": [
    "from __future__  import absolute_import, division, print_function, unicode_literals\n",
    "\n",
    "import keras\n",
    "import tensorflow as tf\n",
    "import numpy as np\n",
    "#Download Keras Imdb datasets : Movie review data where each words are codified into integers\n",
    "imdb=keras.datasets.imdb"
   ]
  },
  {
   "cell_type": "code",
   "execution_count": 3,
   "metadata": {},
   "outputs": [],
   "source": [
    "import warnings\n",
    "warnings.filterwarnings(\"ignore\", category=DeprecationWarning)"
   ]
  },
  {
   "cell_type": "code",
   "execution_count": 4,
   "metadata": {
    "colab": {},
    "colab_type": "code",
    "id": "ujDVF0hdbdAd"
   },
   "outputs": [
    {
     "name": "stderr",
     "output_type": "stream",
     "text": [
      "/Users/hailey/opt/anaconda3/envs/python3_7/lib/python3.7/site-packages/keras/datasets/imdb.py:101: VisibleDeprecationWarning: Creating an ndarray from ragged nested sequences (which is a list-or-tuple of lists-or-tuples-or ndarrays with different lengths or shapes) is deprecated. If you meant to do this, you must specify 'dtype=object' when creating the ndarray\n",
      "  x_train, y_train = np.array(xs[:idx]), np.array(labels[:idx])\n",
      "/Users/hailey/opt/anaconda3/envs/python3_7/lib/python3.7/site-packages/keras/datasets/imdb.py:102: VisibleDeprecationWarning: Creating an ndarray from ragged nested sequences (which is a list-or-tuple of lists-or-tuples-or ndarrays with different lengths or shapes) is deprecated. If you meant to do this, you must specify 'dtype=object' when creating the ndarray\n",
      "  x_test, y_test = np.array(xs[idx:]), np.array(labels[idx:])\n"
     ]
    }
   ],
   "source": [
    "(x_train, y_train), (x_test, y_test)=imdb.load_data(num_words=10000)"
   ]
  },
  {
   "cell_type": "code",
   "execution_count": 5,
   "metadata": {
    "colab": {
     "base_uri": "https://localhost:8080/",
     "height": 34
    },
    "colab_type": "code",
    "id": "V-uc2W--dV4x",
    "outputId": "dff0b1e5-0cfb-4b63-841a-7901b4e850d2"
   },
   "outputs": [
    {
     "name": "stdout",
     "output_type": "stream",
     "text": [
      "test set size: 25000, train set size : 25000\n"
     ]
    }
   ],
   "source": [
    "print('test set size: {}, train set size : {}'.format(len(x_test), len(x_train)))"
   ]
  },
  {
   "cell_type": "markdown",
   "metadata": {},
   "source": [
    "### Check the first X_train data"
   ]
  },
  {
   "cell_type": "code",
   "execution_count": 6,
   "metadata": {
    "colab": {
     "base_uri": "https://localhost:8080/",
     "height": 918
    },
    "colab_type": "code",
    "id": "KKLcR4oRZyYV",
    "outputId": "59c10301-b4b1-4f2e-c474-9527d4689f23"
   },
   "outputs": [
    {
     "data": {
      "text/plain": [
       "[1, 14, 22, 16, 43, 530, 973, 1622, 1385, 65]"
      ]
     },
     "execution_count": 6,
     "metadata": {},
     "output_type": "execute_result"
    }
   ],
   "source": [
    "x_train[0][:10] #Each data is sequence of words"
   ]
  },
  {
   "cell_type": "code",
   "execution_count": 7,
   "metadata": {},
   "outputs": [
    {
     "name": "stdout",
     "output_type": "stream",
     "text": [
      "218\n",
      "189\n",
      "141\n",
      "550\n",
      "147\n",
      "43\n",
      "123\n",
      "562\n",
      "233\n",
      "130\n"
     ]
    }
   ],
   "source": [
    "for i in range(10):\n",
    "    print(len(x_train[i]))\n",
    "#Each review has different length of words"
   ]
  },
  {
   "cell_type": "code",
   "execution_count": 9,
   "metadata": {},
   "outputs": [
    {
     "data": {
      "text/plain": [
       "array([1, 0, 0, ..., 0, 1, 0])"
      ]
     },
     "execution_count": 9,
     "metadata": {},
     "output_type": "execute_result"
    }
   ],
   "source": [
    "y_train\n",
    "#1:Posivie\n",
    "#0: Negative"
   ]
  },
  {
   "cell_type": "code",
   "execution_count": 19,
   "metadata": {},
   "outputs": [
    {
     "name": "stdout",
     "output_type": "stream",
     "text": [
      "12500 12500\n"
     ]
    }
   ],
   "source": [
    "print(sum(y_train==1),\n",
    "sum(y_train==0))\n",
    "#perfectly balanced data"
   ]
  },
  {
   "cell_type": "markdown",
   "metadata": {
    "colab_type": "text",
    "id": "Ogmr0UxrOBd9"
   },
   "source": [
    "# 2. Translating the codified reviews using word index"
   ]
  },
  {
   "cell_type": "code",
   "execution_count": 7,
   "metadata": {},
   "outputs": [
    {
     "data": {
      "text/plain": [
       "numpy.ndarray"
      ]
     },
     "execution_count": 7,
     "metadata": {},
     "output_type": "execute_result"
    }
   ],
   "source": [
    "type(x_train)"
   ]
  },
  {
   "cell_type": "code",
   "execution_count": 8,
   "metadata": {
    "colab": {},
    "colab_type": "code",
    "id": "xaYEnrxLdjaF"
   },
   "outputs": [],
   "source": [
    "word_to_index=imdb.get_word_index()\n",
    "#There is dictionary provided within the data package that can translate the codified reviews into human language"
   ]
  },
  {
   "cell_type": "code",
   "execution_count": 9,
   "metadata": {
    "colab": {
     "base_uri": "https://localhost:8080/",
     "height": 34
    },
    "colab_type": "code",
    "id": "QfzcQnn_ezgC",
    "outputId": "3f45fd6b-3ff4-428d-d28c-8260461c906d"
   },
   "outputs": [
    {
     "data": {
      "text/plain": [
       "dict"
      ]
     },
     "execution_count": 9,
     "metadata": {},
     "output_type": "execute_result"
    }
   ],
   "source": [
    "type(word_to_index)"
   ]
  },
  {
   "cell_type": "code",
   "execution_count": 10,
   "metadata": {
    "colab": {
     "base_uri": "https://localhost:8080/",
     "height": 54
    },
    "colab_type": "code",
    "id": "EuRZrWPOe_FV",
    "outputId": "0d62b3bc-25cf-4425-cb82-44baca9e97e7"
   },
   "outputs": [
    {
     "data": {
      "text/plain": [
       "['fawn',\n",
       " 'tsukino',\n",
       " 'nunnery',\n",
       " 'sonja',\n",
       " 'vani',\n",
       " 'woods',\n",
       " 'spiders',\n",
       " 'hanging',\n",
       " 'woody',\n",
       " 'trawling']"
      ]
     },
     "execution_count": 10,
     "metadata": {},
     "output_type": "execute_result"
    }
   ],
   "source": [
    "list(word_to_index.keys())[:10]\n",
    "#keys of dictionary : English words"
   ]
  },
  {
   "cell_type": "code",
   "execution_count": 11,
   "metadata": {
    "colab": {
     "base_uri": "https://localhost:8080/",
     "height": 54
    },
    "colab_type": "code",
    "id": "_vKy5yubfBVI",
    "outputId": "cf92077d-cbf9-448d-8634-bae9571cb4a6"
   },
   "outputs": [
    {
     "data": {
      "text/plain": [
       "[34701, 52006, 52007, 16816, 63951, 1408, 16115, 2345, 2289, 52008]"
      ]
     },
     "execution_count": 11,
     "metadata": {},
     "output_type": "execute_result"
    }
   ],
   "source": [
    "list(word_to_index.values())[:10]\n",
    "#Values of dictionary : Codes"
   ]
  },
  {
   "cell_type": "code",
   "execution_count": 12,
   "metadata": {
    "colab": {},
    "colab_type": "code",
    "id": "_dovf-9CfEqL"
   },
   "outputs": [],
   "source": [
    "index_to_word={index:word for word, index in word_to_index.items()}\n",
    "#Create an index to word dictionary (Key and index swapped)"
   ]
  },
  {
   "cell_type": "code",
   "execution_count": 13,
   "metadata": {
    "colab": {
     "base_uri": "https://localhost:8080/",
     "height": 54
    },
    "colab_type": "code",
    "id": "vVDHW82ufUsv",
    "outputId": "1ce0e897-3112-4541-dd2f-ce22ba4b2b4a"
   },
   "outputs": [
    {
     "data": {
      "text/plain": [
       "[34701, 52006, 52007, 16816, 63951, 1408, 16115, 2345, 2289, 52008]"
      ]
     },
     "execution_count": 13,
     "metadata": {},
     "output_type": "execute_result"
    }
   ],
   "source": [
    "list(index_to_word.keys())[:10]"
   ]
  },
  {
   "cell_type": "code",
   "execution_count": 14,
   "metadata": {
    "colab": {
     "base_uri": "https://localhost:8080/",
     "height": 34
    },
    "colab_type": "code",
    "id": "ViuJANjRfY0H",
    "outputId": "9bec7273-62eb-4eb1-febb-00b887b50817"
   },
   "outputs": [
    {
     "data": {
      "text/plain": [
       "1"
      ]
     },
     "execution_count": 14,
     "metadata": {},
     "output_type": "execute_result"
    }
   ],
   "source": [
    "min(index_to_word.keys()) #minimum key is 1"
   ]
  },
  {
   "cell_type": "code",
   "execution_count": 15,
   "metadata": {
    "colab": {
     "base_uri": "https://localhost:8080/",
     "height": 35
    },
    "colab_type": "code",
    "id": "sl8qhC_zfeTM",
    "outputId": "6f71dcea-5363-4d70-f839-41f01c3e78d5"
   },
   "outputs": [
    {
     "data": {
      "text/plain": [
       "'the'"
      ]
     },
     "execution_count": 15,
     "metadata": {},
     "output_type": "execute_result"
    }
   ],
   "source": [
    "index_to_word[1] # And the corresponding word of key=1 is \"the\""
   ]
  },
  {
   "cell_type": "code",
   "execution_count": 16,
   "metadata": {
    "colab": {},
    "colab_type": "code",
    "id": "rlD2X4MqfquR"
   },
   "outputs": [],
   "source": [
    "word_to_index={k: (v+3) for k,v in word_to_index.items()}\n",
    "word_to_index[\"<PAD>\"]=0\n",
    "word_to_index[\"<BOs>\"]=1\n",
    "word_to_index[\"<UNK>\"]=2\n",
    "word_to_index[\"<UNUSED>\"]=3 "
   ]
  },
  {
   "cell_type": "code",
   "execution_count": 17,
   "metadata": {
    "colab": {},
    "colab_type": "code",
    "id": "be8YnCEKhl-1"
   },
   "outputs": [],
   "source": [
    "index_to_word={index:word for word, index in word_to_index.items()}"
   ]
  },
  {
   "cell_type": "code",
   "execution_count": 18,
   "metadata": {
    "colab": {
     "base_uri": "https://localhost:8080/",
     "height": 35
    },
    "colab_type": "code",
    "id": "XFRwEoRmhrZN",
    "outputId": "ed6c3b10-9146-45b3-989e-c61f9f0ee3a6"
   },
   "outputs": [
    {
     "data": {
      "text/plain": [
       "'<UNK>'"
      ]
     },
     "execution_count": 18,
     "metadata": {},
     "output_type": "execute_result"
    }
   ],
   "source": [
    "index_to_word[2]"
   ]
  },
  {
   "cell_type": "code",
   "execution_count": 19,
   "metadata": {
    "colab": {
     "base_uri": "https://localhost:8080/",
     "height": 1000
    },
    "colab_type": "code",
    "id": "LYiKCiWBhuc2",
    "outputId": "4af35e6b-7547-4e12-a334-d2714cc54bdb"
   },
   "outputs": [
    {
     "data": {
      "text/plain": [
       "['<BOs>',\n",
       " 'this',\n",
       " 'film',\n",
       " 'was',\n",
       " 'just',\n",
       " 'brilliant',\n",
       " 'casting',\n",
       " 'location',\n",
       " 'scenery',\n",
       " 'story']"
      ]
     },
     "execution_count": 19,
     "metadata": {},
     "output_type": "execute_result"
    }
   ],
   "source": [
    "def get_decoded_sentence(sentence, index_to_word=index_to_word):\n",
    "  return([index_to_word[i] for i in sentence])\n",
    "\n",
    "get_decoded_sentence(x_train[0])[:10] #Decoding function : Translate codifies reviews into human words\n",
    "#\"This film was just brilliant casting, location, scenary, story...\" : Mostly a positive feedbach"
   ]
  },
  {
   "cell_type": "markdown",
   "metadata": {
    "colab_type": "text",
    "id": "v71YghmcOIRn"
   },
   "source": [
    "# 3. Preprocessing data (checking the length of data & Padding)"
   ]
  },
  {
   "cell_type": "code",
   "execution_count": 20,
   "metadata": {
    "colab": {
     "base_uri": "https://localhost:8080/",
     "height": 282
    },
    "colab_type": "code",
    "id": "y379KWTih3hs",
    "outputId": "348763ca-a9dc-4a3a-c697-28c0ad9d2cbe"
   },
   "outputs": [
    {
     "data": {
      "text/plain": [
       "DescribeResult(nobs=50000, minmax=(7, 2494), mean=234.75892, variance=29898.982940092403, skewness=2.1604618319867495, kurtosis=6.737652444441032)"
      ]
     },
     "execution_count": 20,
     "metadata": {},
     "output_type": "execute_result"
    }
   ],
   "source": [
    "total_data_text=list(x_train)+list(x_test)\n",
    "y_train[0] \n",
    "num_tokens=[len(tokens) for tokens in total_data_text]\n",
    "num_tokens=np.array(num_tokens)\n",
    "import scipy\n",
    "from scipy import stats\n",
    "stats.describe(num_tokens)\n"
   ]
  },
  {
   "cell_type": "code",
   "execution_count": 21,
   "metadata": {},
   "outputs": [
    {
     "data": {
      "image/png": "[encoded data removed]",
      "text/plain": [
       "<Figure size 432x288 with 1 Axes>"
      ]
     },
     "metadata": {
      "needs_background": "light"
     },
     "output_type": "display_data"
    }
   ],
   "source": [
    "import matplotlib.pyplot as plt\n",
    "plt.hist(num_tokens, bins=50)\n",
    "plt.show()"
   ]
  },
  {
   "cell_type": "markdown",
   "metadata": {},
   "source": [
    "- This graph shows the length of each movie review\n",
    "- The length distribution shows skewed grapth"
   ]
  },
  {
   "cell_type": "code",
   "execution_count": 22,
   "metadata": {
    "colab": {
     "base_uri": "https://localhost:8080/",
     "height": 34
    },
    "colab_type": "code",
    "id": "3Mllv4KskQG1",
    "outputId": "a0acbdc1-3afa-452e-e086-ea4773d9821d"
   },
   "outputs": [
    {
     "name": "stdout",
     "output_type": "stream",
     "text": [
      "About 94.502% of the sentences are within the normal boundary\n"
     ]
    }
   ],
   "source": [
    "std=num_tokens.std()    \n",
    "mean=num_tokens.mean()\n",
    "outlier_boundary=std*2+mean\n",
    "outlier_boundary=int(outlier_boundary)\n",
    "print(\"About {}% of the sentences are within the normal boundary\".format(sum(num_tokens<outlier_boundary)/len(num_tokens)*100))"
   ]
  },
  {
   "cell_type": "code",
   "execution_count": 23,
   "metadata": {
    "colab": {},
    "colab_type": "code",
    "id": "gE4bY_f5mgdK"
   },
   "outputs": [],
   "source": [
    "#Preprocessing : Padding each sentences to have same length\n",
    "x_train=keras.preprocessing.sequence.pad_sequences(x_train, value=word_to_index['<PAD>'], padding='pre', maxlen=outlier_boundary)\n",
    "x_train.shape\n",
    "x_test=keras.preprocessing.sequence.pad_sequences(x_test, value=word_to_index['<PAD>'], padding='pre', maxlen=outlier_boundary)"
   ]
  },
  {
   "cell_type": "code",
   "execution_count": 24,
   "metadata": {
    "colab": {
     "base_uri": "https://localhost:8080/",
     "height": 34
    },
    "colab_type": "code",
    "id": "8VuGv5Ovo8WU",
    "outputId": "7453737d-820a-45a7-97e8-d570953aab01"
   },
   "outputs": [
    {
     "name": "stdout",
     "output_type": "stream",
     "text": [
      "580\n",
      "580\n",
      "580\n",
      "580\n",
      "580\n",
      "580\n",
      "580\n",
      "580\n",
      "580\n",
      "580\n"
     ]
    }
   ],
   "source": [
    "#Checking the lengh of each sentences : All the length has been adjusted to 580\n",
    "for i in range(10):\n",
    "    print(len(x_train[i]))\n"
   ]
  },
  {
   "cell_type": "code",
   "execution_count": 25,
   "metadata": {
    "colab": {
     "base_uri": "https://localhost:8080/",
     "height": 918
    },
    "colab_type": "code",
    "id": "lkExFSA0pu9B",
    "outputId": "b5aff64e-f01b-4cb5-ef40-3bafa491f7a7"
   },
   "outputs": [
    {
     "data": {
      "text/plain": [
       "array([   0,    0,    0,    0,    0,    0,    0,    0,    0,    0,    0,\n",
       "          0,    0,    0,    0,    0,    0,    0,    0,    0,    0,    0,\n",
       "          0,    0,    0,    0,    0,    0,    0,    0,    0,    0,    0,\n",
       "          0,    0,    0,    0,    0,    0,    0,    0,    0,    0,    0,\n",
       "          0,    0,    0,    0,    0,    0,    0,    0,    0,    0,    0,\n",
       "          0,    0,    0,    0,    0,    0,    0,    0,    0,    0,    0,\n",
       "          0,    0,    0,    0,    0,    0,    0,    0,    0,    0,    0,\n",
       "          0,    0,    0,    0,    0,    0,    0,    0,    0,    0,    0,\n",
       "          0,    0,    0,    0,    0,    0,    0,    0,    0,    0,    0,\n",
       "          0,    0,    0,    0,    0,    0,    0,    0,    0,    0,    0,\n",
       "          0,    0,    0,    0,    0,    0,    0,    0,    0,    0,    0,\n",
       "          0,    0,    0,    0,    0,    0,    0,    0,    0,    0,    0,\n",
       "          0,    0,    0,    0,    0,    0,    0,    0,    0,    0,    0,\n",
       "          0,    0,    0,    0,    0,    0,    0,    0,    0,    0,    0,\n",
       "          0,    0,    0,    0,    0,    0,    0,    0,    0,    0,    0,\n",
       "          0,    0,    0,    0,    0,    0,    0,    0,    0,    0,    0,\n",
       "          0,    0,    0,    0,    0,    0,    0,    0,    0,    0,    0,\n",
       "          0,    0,    0,    0,    0,    0,    0,    0,    0,    0,    0,\n",
       "          0,    0,    0,    0,    0,    0,    0,    0,    0,    0,    0,\n",
       "          0,    0,    0,    0,    0,    0,    0,    0,    0,    0,    0,\n",
       "          0,    0,    0,    0,    0,    0,    0,    0,    0,    0,    0,\n",
       "          0,    0,    0,    0,    0,    0,    0,    0,    0,    0,    0,\n",
       "          0,    0,    0,    0,    0,    0,    0,    0,    0,    0,    0,\n",
       "          0,    0,    0,    0,    0,    0,    0,    0,    0,    0,    0,\n",
       "          0,    0,    0,    0,    0,    0,    0,    0,    0,    0,    0,\n",
       "          0,    0,    0,    0,    0,    0,    0,    0,    0,    0,    0,\n",
       "          0,    0,    0,    0,    0,    0,    0,    0,    0,    0,    0,\n",
       "          0,    0,    0,    0,    0,    0,    0,    0,    0,    0,    0,\n",
       "          0,    0,    0,    0,    0,    0,    0,    0,    0,    0,    0,\n",
       "          0,    0,    0,    0,    0,    0,    0,    0,    0,    0,    0,\n",
       "          0,    0,    0,    0,    0,    0,    0,    0,    0,    0,    0,\n",
       "          0,    0,    0,    0,    0,    0,    0,    0,    0,    0,    0,\n",
       "          0,    0,    0,    0,    0,    0,    0,    0,    0,    0,    1,\n",
       "         14,   22,   16,   43,  530,  973, 1622, 1385,   65,  458, 4468,\n",
       "         66, 3941,    4,  173,   36,  256,    5,   25,  100,   43,  838,\n",
       "        112,   50,  670,    2,    9,   35,  480,  284,    5,  150,    4,\n",
       "        172,  112,  167,    2,  336,  385,   39,    4,  172, 4536, 1111,\n",
       "         17,  546,   38,   13,  447,    4,  192,   50,   16,    6,  147,\n",
       "       2025,   19,   14,   22,    4, 1920, 4613,  469,    4,   22,   71,\n",
       "         87,   12,   16,   43,  530,   38,   76,   15,   13, 1247,    4,\n",
       "         22,   17,  515,   17,   12,   16,  626,   18,    2,    5,   62,\n",
       "        386,   12,    8,  316,    8,  106,    5,    4, 2223, 5244,   16,\n",
       "        480,   66, 3785,   33,    4,  130,   12,   16,   38,  619,    5,\n",
       "         25,  124,   51,   36,  135,   48,   25, 1415,   33,    6,   22,\n",
       "         12,  215,   28,   77,   52,    5,   14,  407,   16,   82,    2,\n",
       "          8,    4,  107,  117, 5952,   15,  256,    4,    2,    7, 3766,\n",
       "          5,  723,   36,   71,   43,  530,  476,   26,  400,  317,   46,\n",
       "          7,    4,    2, 1029,   13,  104,   88,    4,  381,   15,  297,\n",
       "         98,   32, 2071,   56,   26,  141,    6,  194, 7486,   18,    4,\n",
       "        226,   22,   21,  134,  476,   26,  480,    5,  144,   30, 5535,\n",
       "         18,   51,   36,   28,  224,   92,   25,  104,    4,  226,   65,\n",
       "         16,   38, 1334,   88,   12,   16,  283,    5,   16, 4472,  113,\n",
       "        103,   32,   15,   16, 5345,   19,  178,   32], dtype=int32)"
      ]
     },
     "execution_count": 25,
     "metadata": {},
     "output_type": "execute_result"
    }
   ],
   "source": [
    "# Each sentence was padded with \"0\" to have length of 580\n",
    "x_train[0]"
   ]
  },
  {
   "cell_type": "markdown",
   "metadata": {
    "colab_type": "text",
    "id": "w6LJThmcqmJR"
   },
   "source": [
    "# 3. Building model"
   ]
  },
  {
   "cell_type": "markdown",
   "metadata": {
    "colab_type": "text",
    "id": "FbsBOQq6ORG9"
   },
   "source": [
    "## 1) Baseline model\n",
    "- 8 neuron on LSTM\n",
    "- 8 neuron on Dense\n",
    "- Vocab size : 10000\n",
    "- word vector dimension : 16\n",
    "- Accuracy : 84 %\n"
   ]
  },
  {
   "cell_type": "code",
   "execution_count": 26,
   "metadata": {
    "colab": {},
    "colab_type": "code",
    "id": "YO9_IKcJq0hu"
   },
   "outputs": [],
   "source": [
    "model=keras.Sequential()\n",
    "vocab_size=10000\n",
    "word_vector_dim=16\n",
    "model.add(keras.layers.Embedding(vocab_size, word_vector_dim, input_shape=(None, )))\n",
    "model.add(keras.layers.LSTM(8))\n",
    "model.add(keras.layers.Dense(8, activation='relu'))\n",
    "model.add(keras.layers.Dense(1, activation='sigmoid'))"
   ]
  },
  {
   "cell_type": "code",
   "execution_count": 27,
   "metadata": {
    "colab": {
     "base_uri": "https://localhost:8080/",
     "height": 289
    },
    "colab_type": "code",
    "id": "nAF1xNOmt1uq",
    "outputId": "f059d259-c94b-4bd0-9828-f7f591a978a4"
   },
   "outputs": [
    {
     "name": "stdout",
     "output_type": "stream",
     "text": [
      "Model: \"sequential_1\"\n",
      "_________________________________________________________________\n",
      "Layer (type)                 Output Shape              Param #   \n",
      "=================================================================\n",
      "embedding_1 (Embedding)      (None, None, 16)          160000    \n",
      "_________________________________________________________________\n",
      "lstm_1 (LSTM)                (None, 8)                 800       \n",
      "_________________________________________________________________\n",
      "dense_1 (Dense)              (None, 8)                 72        \n",
      "_________________________________________________________________\n",
      "dense_2 (Dense)              (None, 1)                 9         \n",
      "=================================================================\n",
      "Total params: 160,881\n",
      "Trainable params: 160,881\n",
      "Non-trainable params: 0\n",
      "_________________________________________________________________\n"
     ]
    }
   ],
   "source": [
    "model.summary()"
   ]
  },
  {
   "cell_type": "code",
   "execution_count": 28,
   "metadata": {
    "colab": {
     "base_uri": "https://localhost:8080/",
     "height": 697
    },
    "colab_type": "code",
    "id": "p-IPPZTAt91i",
    "outputId": "702761b2-a074-4b58-f865-3d07d75caa87"
   },
   "outputs": [],
   "source": [
    "x_val=x_train[:10000]\n",
    "y_val=y_train[:10000]\n",
    "partial_x_train=x_train[10000:]\n",
    "partial_y_train=y_train[10000:]\n",
    "model.compile(optimizer='adam', loss='binary_crossentropy', metrics=['accuracy'])\n",
    "epochs=20"
   ]
  },
  {
   "cell_type": "code",
   "execution_count": null,
   "metadata": {},
   "outputs": [
    {
     "name": "stderr",
     "output_type": "stream",
     "text": [
      "/Users/hailey/opt/anaconda3/envs/python3_7/lib/python3.7/site-packages/tensorflow_core/python/framework/indexed_slices.py:424: UserWarning: Converting sparse IndexedSlices to a dense Tensor of unknown shape. This may consume a large amount of memory.\n",
      "  \"Converting sparse IndexedSlices to a dense Tensor of unknown shape. \"\n"
     ]
    },
    {
     "name": "stdout",
     "output_type": "stream",
     "text": [
      "Train on 15000 samples, validate on 10000 samples\n",
      "Epoch 1/20\n"
     ]
    }
   ],
   "source": [
    "history=model.fit(partial_x_train, partial_y_train, epochs=epochs, batch_size=128, validation_data=(x_val, y_val))"
   ]
  },
  {
   "cell_type": "code",
   "execution_count": null,
   "metadata": {
    "colab": {
     "base_uri": "https://localhost:8080/",
     "height": 34
    },
    "colab_type": "code",
    "id": "0XgrytE2xcej",
    "outputId": "57aa67cc-6706-4cc1-f23b-0ff7edf4730a"
   },
   "outputs": [
    {
     "name": "stdout",
     "output_type": "stream",
     "text": [
      "782/782 - 19s - loss: 0.5210 - accuracy: 0.8411\n"
     ]
    }
   ],
   "source": [
    "result=model.evaluate(x_test, y_test, verbose=2)"
   ]
  },
  {
   "cell_type": "code",
   "execution_count": null,
   "metadata": {
    "colab": {
     "base_uri": "https://localhost:8080/",
     "height": 136
    },
    "colab_type": "code",
    "id": "1LmqvHXFzAU9",
    "outputId": "7390ea30-af9e-4de7-84b7-9c8f35d2fd27"
   },
   "outputs": [
    {
     "data": {
      "text/plain": [
       "array([[   0,    0,    0, ...,   19,  178,   32],\n",
       "       [   0,    0,    0, ...,   16,  145,   95],\n",
       "       [   0,    0,    0, ...,    7,  129,  113],\n",
       "       ...,\n",
       "       [   0,    0,    0, ...,    4, 3586,    2],\n",
       "       [   0,    0,    0, ...,   12,    9,   23],\n",
       "       [   0,    0,    0, ...,  204,  131,    9]], dtype=int32)"
      ]
     },
     "execution_count": 85,
     "metadata": {
      "tags": []
     },
     "output_type": "execute_result"
    }
   ],
   "source": [
    "x_train"
   ]
  },
  {
   "cell_type": "code",
   "execution_count": null,
   "metadata": {
    "colab": {
     "base_uri": "https://localhost:8080/",
     "height": 655
    },
    "colab_type": "code",
    "id": "nWxfSD7OzCya",
    "outputId": "3449fdb5-8f6c-481f-9dc3-33b160277921"
   },
   "outputs": [
    {
     "data": {
      "image/png": "[encoded data removed]",
      "text/plain": [
       "<Figure size 720x360 with 1 Axes>"
      ]
     },
     "metadata": {
      "needs_background": "light",
      "tags": []
     },
     "output_type": "display_data"
    },
    {
     "data": {
      "image/png": "[encoded data removed]",
      "text/plain": [
       "<Figure size 720x360 with 1 Axes>"
      ]
     },
     "metadata": {
      "needs_background": "light",
      "tags": []
     },
     "output_type": "display_data"
    }
   ],
   "source": [
    "history_dict=history.history\n",
    "acc=history_dict['accuracy']\n",
    "loss=history_dict['loss']\n",
    "val_acc=history_dict['val_accuracy']\n",
    "val_loss=history_dict['val_loss']\n",
    "epoch_axis=range(1,epochs+1)\n",
    "fig=plt.figure(figsize=(10,5))\n",
    "plt.plot(epoch_axisa, loss, 'bo', label='Training loss')\n",
    "plt.plot(epoch_axis, val_loss, 'b', label='validation loss')\n",
    "plt.title('Training and validation loss')\n",
    "plt.show()\n",
    "\n",
    "fig2=plt.figure(figsize=(10,5))\n",
    "plt.plot(epoch_axis, acc, 'ro', label='Training accuracy')\n",
    "plt.plot(epoch_axis, val_acc, 'r', label='Validation accuracy')\n",
    "plt.title('Training and validation accuracy')\n",
    "plt.show()"
   ]
  },
  {
   "cell_type": "markdown",
   "metadata": {
    "colab_type": "text",
    "id": "aGkr9HeiOnJ_"
   },
   "source": [
    "## 2) Decresing dimension of embedded\n",
    "- 8 neuron on LSTM\n",
    "- 8 neuron on Dense\n",
    "- Vocab size : 10000\n",
    "- **word vector dimension : 10**\n",
    "- Accuracy : 84 %"
   ]
  },
  {
   "cell_type": "code",
   "execution_count": null,
   "metadata": {
    "colab": {
     "base_uri": "https://localhost:8080/",
     "height": 357
    },
    "colab_type": "code",
    "id": "XznT2JhXzm7_",
    "outputId": "2592d64f-5094-4bf4-ef57-4c58bd8728e5"
   },
   "outputs": [
    {
     "name": "stdout",
     "output_type": "stream",
     "text": [
      "Epoch 1/10\n",
      "30/30 [==============================] - 11s 354ms/step - loss: 0.6926 - accuracy: 0.5517 - val_loss: 0.6912 - val_accuracy: 0.6022\n",
      "Epoch 2/10\n",
      "30/30 [==============================] - 10s 325ms/step - loss: 0.6867 - accuracy: 0.6449 - val_loss: 0.6773 - val_accuracy: 0.6380\n",
      "Epoch 3/10\n",
      "30/30 [==============================] - 10s 327ms/step - loss: 0.6487 - accuracy: 0.6929 - val_loss: 0.6083 - val_accuracy: 0.8116\n",
      "Epoch 4/10\n",
      "30/30 [==============================] - 10s 327ms/step - loss: 0.5780 - accuracy: 0.8164 - val_loss: 0.5488 - val_accuracy: 0.7840\n",
      "Epoch 5/10\n",
      "30/30 [==============================] - 10s 326ms/step - loss: 0.4860 - accuracy: 0.8507 - val_loss: 0.4732 - val_accuracy: 0.8413\n",
      "Epoch 6/10\n",
      "30/30 [==============================] - 10s 325ms/step - loss: 0.4032 - accuracy: 0.8824 - val_loss: 0.4127 - val_accuracy: 0.8504\n",
      "Epoch 7/10\n",
      "30/30 [==============================] - 10s 327ms/step - loss: 0.3423 - accuracy: 0.8945 - val_loss: 0.4027 - val_accuracy: 0.8388\n",
      "Epoch 8/10\n",
      "30/30 [==============================] - 10s 329ms/step - loss: 0.3055 - accuracy: 0.8994 - val_loss: 0.3758 - val_accuracy: 0.8474\n",
      "Epoch 9/10\n",
      "30/30 [==============================] - 10s 328ms/step - loss: 0.2576 - accuracy: 0.9191 - val_loss: 0.3561 - val_accuracy: 0.8580\n",
      "Epoch 10/10\n",
      "30/30 [==============================] - 10s 334ms/step - loss: 0.2228 - accuracy: 0.9309 - val_loss: 0.3678 - val_accuracy: 0.8474\n"
     ]
    }
   ],
   "source": [
    "model=keras.Sequential()\n",
    "vocab_size=10000\n",
    "word_vector_dim=10\n",
    "model.add(keras.layers.Embedding(vocab_size, word_vector_dim, input_shape=(None, )))\n",
    "model.add(keras.layers.LSTM(8))\n",
    "model.add(keras.layers.Dense(8, activation='relu'))\n",
    "model.add(keras.layers.Dense(1, activation='sigmoid'))\n",
    "epochs=10\n",
    "model.compile(optimizer='adam', loss='binary_crossentropy', metrics=['accuracy'])\n",
    "history=model.fit(partial_x_train, partial_y_train, epochs=epochs, batch_size=512, validation_data=(x_val, y_val), verbose=1)"
   ]
  },
  {
   "cell_type": "code",
   "execution_count": null,
   "metadata": {
    "colab": {
     "base_uri": "https://localhost:8080/",
     "height": 51
    },
    "colab_type": "code",
    "id": "jujFSPXx1rn8",
    "outputId": "54a1df86-2cb7-407d-b374-437e9d6d1f95"
   },
   "outputs": [
    {
     "name": "stdout",
     "output_type": "stream",
     "text": [
      "782/782 - 19s - loss: 0.3834 - accuracy: 0.8406\n"
     ]
    },
    {
     "data": {
      "text/plain": [
       "[0.38335204124450684, 0.8405600190162659]"
      ]
     },
     "execution_count": 107,
     "metadata": {
      "tags": []
     },
     "output_type": "execute_result"
    }
   ],
   "source": [
    "model.evaluate(x_test, y_test, verbose=2)"
   ]
  },
  {
   "cell_type": "code",
   "execution_count": null,
   "metadata": {
    "colab": {
     "base_uri": "https://localhost:8080/",
     "height": 655
    },
    "colab_type": "code",
    "id": "dPD8Y56G2riE",
    "outputId": "18217200-4acf-4648-a0ca-aadba69c696c"
   },
   "outputs": [
    {
     "data": {
      "image/png": "[encoded data removed]",
      "text/plain": [
       "<Figure size 720x360 with 1 Axes>"
      ]
     },
     "metadata": {
      "needs_background": "light",
      "tags": []
     },
     "output_type": "display_data"
    },
    {
     "data": {
      "image/png": "[encoded data removed]",
      "text/plain": [
       "<Figure size 720x360 with 1 Axes>"
      ]
     },
     "metadata": {
      "needs_background": "light",
      "tags": []
     },
     "output_type": "display_data"
    }
   ],
   "source": [
    "history_dict=history.history\n",
    "acc=history_dict['accuracy']\n",
    "loss=history_dict['loss']\n",
    "val_acc=history_dict['val_accuracy']\n",
    "val_loss=history_dict['val_loss']\n",
    "epoch_axis=range(1,epochs+1)\n",
    "fig=plt.figure(figsize=(10,5))\n",
    "plt.plot(epoch_axis, loss, 'bo', label='Training loss')\n",
    "plt.plot(epoch_axis, val_loss, 'b', label='validation loss')\n",
    "plt.title('Training and validation loss')\n",
    "plt.show()\n",
    "\n",
    "fig2=plt.figure(figsize=(10,5))\n",
    "plt.plot(epoch_axis, acc, 'ro', label='Training accuracy')\n",
    "plt.plot(epoch_axis, val_acc, 'r', label='Validation accuracy')\n",
    "plt.title('Training and validation accuracy')\n",
    "plt.show()"
   ]
  },
  {
   "cell_type": "markdown",
   "metadata": {
    "colab_type": "text",
    "id": "BY-KvoDlPQrM"
   },
   "source": [
    "## (3) Regularize\n",
    "- with L2 reg term (lambda : 0.01)\n",
    "- 8 neuron on LSTM\n",
    "- 8 neuron on Dense\n",
    "- Vocab size : 10000\n",
    "- word vector dimension : 10\n",
    "- Accuracy : 84 %"
   ]
  },
  {
   "cell_type": "code",
   "execution_count": null,
   "metadata": {
    "colab": {
     "base_uri": "https://localhost:8080/",
     "height": 859
    },
    "colab_type": "code",
    "id": "1voNMxtt3a5y",
    "outputId": "2f4632b2-b89a-461d-ba8d-77760bbb95b5"
   },
   "outputs": [
    {
     "name": "stdout",
     "output_type": "stream",
     "text": [
      "Epoch 1/5\n",
      "30/30 [==============================] - 11s 367ms/step - loss: 0.7678 - accuracy: 0.5553 - val_loss: 0.7587 - val_accuracy: 0.6727\n",
      "Epoch 2/5\n",
      "30/30 [==============================] - 10s 338ms/step - loss: 0.7441 - accuracy: 0.7301 - val_loss: 0.7191 - val_accuracy: 0.7633\n",
      "Epoch 3/5\n",
      "30/30 [==============================] - 10s 337ms/step - loss: 0.6573 - accuracy: 0.7879 - val_loss: 0.6101 - val_accuracy: 0.8075\n",
      "Epoch 4/5\n",
      "30/30 [==============================] - 10s 338ms/step - loss: 0.5433 - accuracy: 0.8403 - val_loss: 0.5118 - val_accuracy: 0.8347\n",
      "Epoch 5/5\n",
      "30/30 [==============================] - 11s 364ms/step - loss: 0.4463 - accuracy: 0.8812 - val_loss: 0.4589 - val_accuracy: 0.8461\n",
      "782/782 - 19s - loss: 0.4659 - accuracy: 0.8408\n",
      "test result accuracy : [0.46594372391700745, 0.8408399820327759]\n"
     ]
    },
    {
     "data": {
      "image/png": "[encoded data removed]",
      "text/plain": [
       "<Figure size 720x360 with 1 Axes>"
      ]
     },
     "metadata": {
      "needs_background": "light",
      "tags": []
     },
     "output_type": "display_data"
    },
    {
     "data": {
      "image/png": "[encoded data removed]",
      "text/plain": [
       "<Figure size 720x360 with 1 Axes>"
      ]
     },
     "metadata": {
      "needs_background": "light",
      "tags": []
     },
     "output_type": "display_data"
    }
   ],
   "source": [
    "from keras.regularizers import l2\n",
    "l2=l2(0.01)\n",
    "model=keras.Sequential()\n",
    "vocab_size=10000\n",
    "word_vector_dim=10\n",
    "epochs=5\n",
    "model.add(keras.layers.Embedding(vocab_size, word_vector_dim, input_shape=(None, )))\n",
    "model.add(keras.layers.LSTM(8))\n",
    "model.add(keras.layers.Dense(8, activation='relu', kernel_regularizer=l2))\n",
    "model.add(keras.layers.Dense(1, activation='sigmoid'))\n",
    "\n",
    "model.compile(optimizer='adam', loss='binary_crossentropy', metrics=['accuracy'])\n",
    "\n",
    "history=model.fit(partial_x_train, partial_y_train, epochs=epochs, batch_size=512, validation_data=(x_val, y_val), verbose=1)\n",
    "print(\"test result accuracy : {}\".format(model.evaluate(x_test, y_test, verbose=2)[1]))\n",
    "history_dict=history.history\n",
    "acc=history_dict['accuracy']\n",
    "loss=history_dict['loss']\n",
    "val_acc=history_dict['val_accuracy']\n",
    "val_loss=history_dict['val_loss']\n",
    "epoch_axis=range(1,epochs+1)\n",
    "fig=plt.figure(figsize=(10,5))\n",
    "plt.plot(epoch_axis, loss, 'bo', label='Training loss')\n",
    "plt.plot(epoch_axis, val_loss, 'b', label='validation loss')\n",
    "plt.title('Training and validation loss')\n",
    "plt.show()\n",
    "\n",
    "fig2=plt.figure(figsize=(10,5))\n",
    "plt.plot(epoch_axis, acc, 'ro', label='Training accuracy')\n",
    "plt.plot(epoch_axis, val_acc, 'r', label='Validation accuracy')\n",
    "plt.title('Training and validation accuracy')\n",
    "plt.show()"
   ]
  },
  {
   "cell_type": "markdown",
   "metadata": {
    "colab_type": "text",
    "id": "R_6KOiGH7Sgc"
   },
   "source": [
    "## (4) Regularize more : accuracy 1% increase\n",
    "- **with L2 reg term (lambda : 0.1)**\n",
    " - Regularize 의 정도를 높이기 위해 l2 람다를 0.01로 올림\n",
    "- 8 neuron on LSTM\n",
    "- 8 neuron on Dense\n",
    "- Vocab size : 10000\n",
    "- word vector dimension : 10\n",
    "\n",
    "- Accuracy : 85 %"
   ]
  },
  {
   "cell_type": "code",
   "execution_count": null,
   "metadata": {
    "colab": {
     "base_uri": "https://localhost:8080/",
     "height": 1000
    },
    "colab_type": "code",
    "id": "yl7HqKMd5VBZ",
    "outputId": "7d6f574f-1baa-4cb0-b617-3ec51e520449"
   },
   "outputs": [
    {
     "name": "stdout",
     "output_type": "stream",
     "text": [
      "Epoch 1/15\n",
      "30/30 [==============================] - 11s 367ms/step - loss: 1.3929 - accuracy: 0.5453 - val_loss: 1.3359 - val_accuracy: 0.6005\n",
      "Epoch 2/15\n",
      "30/30 [==============================] - 10s 341ms/step - loss: 1.2815 - accuracy: 0.6761 - val_loss: 1.2188 - val_accuracy: 0.7152\n",
      "Epoch 3/15\n",
      "30/30 [==============================] - 10s 342ms/step - loss: 1.1069 - accuracy: 0.7679 - val_loss: 1.0385 - val_accuracy: 0.7520\n",
      "Epoch 4/15\n",
      "30/30 [==============================] - 10s 342ms/step - loss: 0.9387 - accuracy: 0.8204 - val_loss: 0.8927 - val_accuracy: 0.8333\n",
      "Epoch 5/15\n",
      "30/30 [==============================] - 10s 337ms/step - loss: 0.8155 - accuracy: 0.8689 - val_loss: 0.7960 - val_accuracy: 0.8538\n",
      "Epoch 6/15\n",
      "30/30 [==============================] - 10s 343ms/step - loss: 0.7143 - accuracy: 0.8963 - val_loss: 0.7234 - val_accuracy: 0.8634\n",
      "Epoch 7/15\n",
      "30/30 [==============================] - 10s 339ms/step - loss: 0.6308 - accuracy: 0.9136 - val_loss: 0.6768 - val_accuracy: 0.8594\n",
      "Epoch 8/15\n",
      "30/30 [==============================] - 10s 341ms/step - loss: 0.5601 - accuracy: 0.9247 - val_loss: 0.6194 - val_accuracy: 0.8586\n",
      "Epoch 9/15\n",
      "30/30 [==============================] - 10s 342ms/step - loss: 0.5029 - accuracy: 0.9329 - val_loss: 0.5760 - val_accuracy: 0.8675\n",
      "Epoch 10/15\n",
      "30/30 [==============================] - 11s 354ms/step - loss: 0.4522 - accuracy: 0.9420 - val_loss: 0.5558 - val_accuracy: 0.8607\n",
      "Epoch 11/15\n",
      "30/30 [==============================] - 10s 339ms/step - loss: 0.4084 - accuracy: 0.9479 - val_loss: 0.5238 - val_accuracy: 0.8675\n",
      "Epoch 12/15\n",
      "30/30 [==============================] - 10s 343ms/step - loss: 0.3777 - accuracy: 0.9482 - val_loss: 0.5190 - val_accuracy: 0.8605\n",
      "Epoch 13/15\n",
      "30/30 [==============================] - 10s 342ms/step - loss: 0.3410 - accuracy: 0.9565 - val_loss: 0.4953 - val_accuracy: 0.8602\n",
      "Epoch 14/15\n",
      "30/30 [==============================] - 10s 345ms/step - loss: 0.3173 - accuracy: 0.9581 - val_loss: 0.4715 - val_accuracy: 0.8626\n",
      "Epoch 15/15\n",
      "30/30 [==============================] - 10s 347ms/step - loss: 0.2903 - accuracy: 0.9627 - val_loss: 0.4614 - val_accuracy: 0.8639\n",
      "782/782 - 19s - loss: 0.4709 - accuracy: 0.8579\n",
      "test result accuracy : 0.8579199910163879\n"
     ]
    },
    {
     "data": {
      "image/png": "[encoded data removed]",
      "text/plain": [
       "<Figure size 720x360 with 1 Axes>"
      ]
     },
     "metadata": {
      "needs_background": "light",
      "tags": []
     },
     "output_type": "display_data"
    },
    {
     "data": {
      "image/png": "[encoded data removed]",
      "text/plain": [
       "<Figure size 720x360 with 1 Axes>"
      ]
     },
     "metadata": {
      "needs_background": "light",
      "tags": []
     },
     "output_type": "display_data"
    }
   ],
   "source": [
    "from keras.regularizers import l2\n",
    "l2=l2(0.1)\n",
    "model=keras.Sequential()\n",
    "vocab_size=10000\n",
    "word_vector_dim=10\n",
    "epochs=15\n",
    "model.add(keras.layers.Embedding(vocab_size, word_vector_dim, input_shape=(None, )))\n",
    "model.add(keras.layers.LSTM(8))\n",
    "model.add(keras.layers.Dense(8, activation='relu', kernel_regularizer=l2))\n",
    "model.add(keras.layers.Dense(1, activation='sigmoid'))\n",
    "\n",
    "model.compile(optimizer='adam', loss='binary_crossentropy', metrics=['accuracy'])\n",
    "\n",
    "x_val=x_train[:10000]\n",
    "y_val=y_train[:10000]\n",
    "partial_x_train=x_train[10000:]\n",
    "partial_y_train=y_train[10000:]\n",
    "\n",
    "\n",
    "history=model.fit(partial_x_train, partial_y_train, epochs=epochs, batch_size=512, validation_data=(x_val, y_val), verbose=1)\n",
    "print(\"test result accuracy : {}\".format(model.evaluate(x_test, y_test, verbose=2)[1]))\n",
    "history_dict=history.history\n",
    "acc=history_dict['accuracy']\n",
    "loss=history_dict['loss']\n",
    "val_acc=history_dict['val_accuracy']\n",
    "val_loss=history_dict['val_loss']\n",
    "epoch_axis=range(1,epochs+1)\n",
    "fig=plt.figure(figsize=(10,5))\n",
    "plt.plot(epoch_axis, loss, 'bo', label='Training loss')\n",
    "plt.plot(epoch_axis, val_loss, 'b', label='validation loss')\n",
    "plt.title('Training and validation loss')\n",
    "plt.show()\n",
    "\n",
    "fig2=plt.figure(figsize=(10,5))\n",
    "plt.plot(epoch_axis, acc, 'ro', label='Training accuracy')\n",
    "plt.plot(epoch_axis, val_acc, 'r', label='Validation accuracy')\n",
    "plt.title('Training and validation accuracy')\n",
    "plt.show()"
   ]
  },
  {
   "cell_type": "markdown",
   "metadata": {
    "colab_type": "text",
    "id": "QPnubIDkCAli"
   },
   "source": [
    "##(5) More training set and less test set \n",
    "\n",
    "- big L2 reg term (lambda : 0.1)\n",
    "- 8 neuron on LSTM\n",
    "- 8 neuron on Dense\n",
    "- Accuracy : 85 %\n",
    "- Vocab size : 10000\n",
    "- word vector dimension : 10\n",
    "- train size : 25000-> 40000\n",
    "- test size : 25000 -> 10000"
   ]
  },
  {
   "cell_type": "code",
   "execution_count": 30,
   "metadata": {
    "colab": {},
    "colab_type": "code",
    "id": "HRgAa3xr-f2l"
   },
   "outputs": [],
   "source": [
    "import sklearn\n",
    "from sklearn.model_selection import train_test_split\n",
    "\n",
    "vocab_size=10000\n",
    "(x_train, y_train), (x_test, y_test)=imdb.load_data(num_words=vocab_size)\n",
    "X=np.append(x_train, x_test)\n",
    "Y=np.append(y_train, y_test)\n",
    "x_train, x_test, y_train, y_test=train_test_split(X,Y, test_size=0.2)\n",
    "\n",
    "x_train=keras.preprocessing.sequence.pad_sequences(x_train, value=word_to_index['<PAD>'], padding='pre', maxlen=outlier_boundary)\n",
    "x_train.shape\n",
    "x_test=keras.preprocessing.sequence.pad_sequences(x_test, value=word_to_index['<PAD>'], padding='pre', maxlen=outlier_boundary)\n",
    "\n",
    "\n",
    "\n",
    "\n",
    "x_val=x_train[:10000]\n",
    "y_val=y_train[:10000]\n",
    "partial_x_train=x_train[10000:]\n",
    "partial_y_train=y_train[10000:]"
   ]
  },
  {
   "cell_type": "code",
   "execution_count": 29,
   "metadata": {
    "colab": {
     "base_uri": "https://localhost:8080/",
     "height": 1000
    },
    "colab_type": "code",
    "id": "nWD6CYAY7RXe",
    "outputId": "929f991a-20d1-46fa-bb9e-93688fbc62f4"
   },
   "outputs": [
    {
     "ename": "NameError",
     "evalue": "name 'partial_x_train' is not defined",
     "output_type": "error",
     "traceback": [
      "\u001b[0;31m---------------------------------------------------------------------------\u001b[0m",
      "\u001b[0;31mNameError\u001b[0m                                 Traceback (most recent call last)",
      "\u001b[0;32m<ipython-input-29-c3e1d4a8647f>\u001b[0m in \u001b[0;36m<module>\u001b[0;34m\u001b[0m\n\u001b[1;32m     16\u001b[0m \u001b[0mmodel\u001b[0m\u001b[0;34m.\u001b[0m\u001b[0mcompile\u001b[0m\u001b[0;34m(\u001b[0m\u001b[0moptimizer\u001b[0m\u001b[0;34m=\u001b[0m\u001b[0;34m'adam'\u001b[0m\u001b[0;34m,\u001b[0m \u001b[0mloss\u001b[0m\u001b[0;34m=\u001b[0m\u001b[0;34m'binary_crossentropy'\u001b[0m\u001b[0;34m,\u001b[0m \u001b[0mmetrics\u001b[0m\u001b[0;34m=\u001b[0m\u001b[0;34m[\u001b[0m\u001b[0;34m'accuracy'\u001b[0m\u001b[0;34m]\u001b[0m\u001b[0;34m)\u001b[0m\u001b[0;34m\u001b[0m\u001b[0;34m\u001b[0m\u001b[0m\n\u001b[1;32m     17\u001b[0m \u001b[0;34m\u001b[0m\u001b[0m\n\u001b[0;32m---> 18\u001b[0;31m \u001b[0mhistory\u001b[0m\u001b[0;34m=\u001b[0m\u001b[0mmodel\u001b[0m\u001b[0;34m.\u001b[0m\u001b[0mfit\u001b[0m\u001b[0;34m(\u001b[0m\u001b[0mpartial_x_train\u001b[0m\u001b[0;34m,\u001b[0m \u001b[0mpartial_y_train\u001b[0m\u001b[0;34m,\u001b[0m \u001b[0mepochs\u001b[0m\u001b[0;34m=\u001b[0m\u001b[0mepochs\u001b[0m\u001b[0;34m,\u001b[0m \u001b[0mbatch_size\u001b[0m\u001b[0;34m=\u001b[0m\u001b[0;36m512\u001b[0m\u001b[0;34m,\u001b[0m \u001b[0mvalidation_data\u001b[0m\u001b[0;34m=\u001b[0m\u001b[0;34m(\u001b[0m\u001b[0mx_val\u001b[0m\u001b[0;34m,\u001b[0m \u001b[0my_val\u001b[0m\u001b[0;34m)\u001b[0m\u001b[0;34m,\u001b[0m \u001b[0mverbose\u001b[0m\u001b[0;34m=\u001b[0m\u001b[0;36m1\u001b[0m\u001b[0;34m)\u001b[0m\u001b[0;34m\u001b[0m\u001b[0;34m\u001b[0m\u001b[0m\n\u001b[0m\u001b[1;32m     19\u001b[0m \u001b[0mprint\u001b[0m\u001b[0;34m(\u001b[0m\u001b[0;34m\"test result accuracy : {}\"\u001b[0m\u001b[0;34m.\u001b[0m\u001b[0mformat\u001b[0m\u001b[0;34m(\u001b[0m\u001b[0mmodel\u001b[0m\u001b[0;34m.\u001b[0m\u001b[0mevaluate\u001b[0m\u001b[0;34m(\u001b[0m\u001b[0mx_test\u001b[0m\u001b[0;34m,\u001b[0m \u001b[0my_test\u001b[0m\u001b[0;34m,\u001b[0m \u001b[0mverbose\u001b[0m\u001b[0;34m=\u001b[0m\u001b[0;36m2\u001b[0m\u001b[0;34m)\u001b[0m\u001b[0;34m[\u001b[0m\u001b[0;36m1\u001b[0m\u001b[0;34m]\u001b[0m\u001b[0;34m)\u001b[0m\u001b[0;34m)\u001b[0m\u001b[0;34m\u001b[0m\u001b[0;34m\u001b[0m\u001b[0m\n\u001b[1;32m     20\u001b[0m \u001b[0mhistory_dict\u001b[0m\u001b[0;34m=\u001b[0m\u001b[0mhistory\u001b[0m\u001b[0;34m.\u001b[0m\u001b[0mhistory\u001b[0m\u001b[0;34m\u001b[0m\u001b[0;34m\u001b[0m\u001b[0m\n",
      "\u001b[0;31mNameError\u001b[0m: name 'partial_x_train' is not defined"
     ]
    }
   ],
   "source": [
    "from keras.regularizers import l2\n",
    "\n",
    "\n",
    "l2=l2(0.1)\n",
    "model=keras.Sequential()\n",
    "vocab_size=vocab_size\n",
    "word_vector_dim=10\n",
    "epochs=20\n",
    "\n",
    "model.add(keras.layers.Embedding(vocab_size, word_vector_dim, input_shape=(None, )))\n",
    "model.add(keras.layers.LSTM(8))\n",
    "model.add(keras.layers.Dense(8, activation='relu', kernel_regularizer=l2))\n",
    "model.add(keras.layers.Dense(1, activation='sigmoid'))\n",
    "\n",
    "model.compile(optimizer='adam', loss='binary_crossentropy', metrics=['accuracy'])\n",
    "\n",
    "history=model.fit(partial_x_train, partial_y_train, epochs=epochs, batch_size=512, validation_data=(x_val, y_val), verbose=1)\n",
    "print(\"test result accuracy : {}\".format(model.evaluate(x_test, y_test, verbose=2)[1]))\n",
    "history_dict=history.history\n",
    "acc=history_dict['accuracy']\n",
    "loss=history_dict['loss']\n",
    "val_acc=history_dict['val_accuracy']\n",
    "val_loss=history_dict['val_loss']\n",
    "epoch_axis=range(1,epochs+1)\n",
    "fig=plt.figure(figsize=(10,5))\n",
    "plt.plot(epoch_axis, loss, 'bo', label='Training loss')\n",
    "plt.plot(epoch_axis, val_loss, 'b', label='validation loss')\n",
    "plt.title('Training and validation loss')\n",
    "plt.show()\n",
    "\n",
    "fig2=plt.figure(figsize=(10,5))\n",
    "plt.plot(epoch_axis, acc, 'ro', label='Training accuracy')\n",
    "plt.plot(epoch_axis, val_acc, 'r', label='Validation accuracy')\n",
    "plt.title('Training and validation accuracy')\n",
    "plt.show()"
   ]
  },
  {
   "cell_type": "markdown",
   "metadata": {
    "colab_type": "text",
    "id": "xRJ6ZJGPJt1a"
   },
   "source": [
    "## (6) More x 2 training set and less test set -> Best CASE!! \n",
    "\n",
    "- big L2 reg term (lambda : 0.1)\n",
    "- 8 neuron on LSTM\n",
    "- 8 neuron on Dense\n",
    "- Vocab size : 10000\n",
    "- word vector dimension : 10\n",
    "- train size : 40000 -> 45000\n",
    "- validation set size : 10000 -> 5000\n",
    "- test size : 10000\n",
    "- **Accuracy : 87 %**"
   ]
  },
  {
   "cell_type": "code",
   "execution_count": 31,
   "metadata": {
    "colab": {},
    "colab_type": "code",
    "id": "PxHZrHBw_HK-"
   },
   "outputs": [],
   "source": [
    "vocab_size=10000\n",
    "import sklearn\n",
    "from sklearn.model_selection import train_test_split\n",
    "(x_train, y_train), (x_test, y_test)=imdb.load_data(num_words=vocab_size)\n",
    "X=np.append(x_train, x_test)\n",
    "Y=np.append(y_train, y_test)\n",
    "x_train, x_test, y_train, y_test=train_test_split(X,Y, test_size=0.2)\n",
    "\n",
    "x_train=keras.preprocessing.sequence.pad_sequences(x_train, value=word_to_index['<PAD>'], padding='pre', maxlen=outlier_boundary)\n",
    "x_train.shape\n",
    "x_test=keras.preprocessing.sequence.pad_sequences(x_test, value=word_to_index['<PAD>'], padding='pre', maxlen=outlier_boundary)\n",
    "\n",
    "x_val=x_train[:5000]\n",
    "y_val=y_train[:5000]\n",
    "partial_x_train=x_train[5000:]\n",
    "partial_y_train=y_train[5000:]"
   ]
  },
  {
   "cell_type": "code",
   "execution_count": 32,
   "metadata": {
    "colab": {
     "base_uri": "https://localhost:8080/",
     "height": 1000
    },
    "colab_type": "code",
    "id": "SAsvG82-ESrQ",
    "outputId": "3123092c-49b7-4100-a804-e632fff08cc2"
   },
   "outputs": [
    {
     "name": "stdout",
     "output_type": "stream",
     "text": [
      "Epoch 1/25\n",
      "69/69 [==============================] - 2s 30ms/step - loss: 2.5619 - accuracy: 0.6362 - val_loss: 2.1630 - val_accuracy: 0.5084\n",
      "Epoch 2/25\n",
      "69/69 [==============================] - 2s 25ms/step - loss: 1.8536 - accuracy: 0.5215 - val_loss: 1.6051 - val_accuracy: 0.5060\n",
      "Epoch 3/25\n",
      "69/69 [==============================] - 2s 25ms/step - loss: 1.4113 - accuracy: 0.5751 - val_loss: 1.2285 - val_accuracy: 0.7310\n",
      "Epoch 4/25\n",
      "69/69 [==============================] - 2s 25ms/step - loss: 1.0900 - accuracy: 0.7903 - val_loss: 0.9627 - val_accuracy: 0.8062\n",
      "Epoch 5/25\n",
      "69/69 [==============================] - 2s 25ms/step - loss: 0.8648 - accuracy: 0.8119 - val_loss: 0.7847 - val_accuracy: 0.7976\n",
      "Epoch 6/25\n",
      "69/69 [==============================] - 2s 27ms/step - loss: 0.7161 - accuracy: 0.8148 - val_loss: 0.8541 - val_accuracy: 0.5750\n",
      "Epoch 7/25\n",
      "69/69 [==============================] - 2s 26ms/step - loss: 0.6852 - accuracy: 0.7688 - val_loss: 0.6218 - val_accuracy: 0.8080\n",
      "Epoch 8/25\n",
      "69/69 [==============================] - 2s 26ms/step - loss: 0.7671 - accuracy: 0.6333 - val_loss: 0.7985 - val_accuracy: 0.4998\n",
      "Epoch 9/25\n",
      "69/69 [==============================] - 2s 25ms/step - loss: 0.7567 - accuracy: 0.5501 - val_loss: 0.7413 - val_accuracy: 0.6952\n",
      "Epoch 10/25\n",
      "69/69 [==============================] - 2s 25ms/step - loss: 0.7354 - accuracy: 0.7043 - val_loss: 0.7294 - val_accuracy: 0.7268\n",
      "Epoch 11/25\n",
      "69/69 [==============================] - 2s 24ms/step - loss: 0.7261 - accuracy: 0.6564 - val_loss: 0.7225 - val_accuracy: 0.6020\n",
      "Epoch 12/25\n",
      "69/69 [==============================] - 2s 24ms/step - loss: 0.7204 - accuracy: 0.6486 - val_loss: 0.7180 - val_accuracy: 0.6432\n",
      "Epoch 13/25\n",
      "69/69 [==============================] - 2s 26ms/step - loss: 0.7165 - accuracy: 0.5587 - val_loss: 0.7147 - val_accuracy: 0.5042\n",
      "Epoch 14/25\n",
      "69/69 [==============================] - 2s 25ms/step - loss: 0.7140 - accuracy: 0.5571 - val_loss: 0.7129 - val_accuracy: 0.5246\n",
      "Epoch 15/25\n",
      "69/69 [==============================] - 2s 25ms/step - loss: 0.7119 - accuracy: 0.6278 - val_loss: 0.7109 - val_accuracy: 0.7186\n",
      "Epoch 16/25\n",
      "69/69 [==============================] - 2s 25ms/step - loss: 0.7104 - accuracy: 0.5472 - val_loss: 0.7093 - val_accuracy: 0.5042\n",
      "Epoch 17/25\n",
      "69/69 [==============================] - 2s 26ms/step - loss: 0.7090 - accuracy: 0.6056 - val_loss: 0.7082 - val_accuracy: 0.5076\n",
      "Epoch 18/25\n",
      "69/69 [==============================] - 2s 26ms/step - loss: 0.7077 - accuracy: 0.5780 - val_loss: 0.7072 - val_accuracy: 0.5406\n",
      "Epoch 19/25\n",
      "69/69 [==============================] - 2s 25ms/step - loss: 0.7066 - accuracy: 0.5441 - val_loss: 0.7062 - val_accuracy: 0.4998\n",
      "Epoch 20/25\n",
      "69/69 [==============================] - 2s 25ms/step - loss: 0.7056 - accuracy: 0.6027 - val_loss: 0.7051 - val_accuracy: 0.6108\n",
      "Epoch 21/25\n",
      "69/69 [==============================] - 2s 24ms/step - loss: 0.7047 - accuracy: 0.5293 - val_loss: 0.7044 - val_accuracy: 0.4972\n",
      "Epoch 22/25\n",
      "69/69 [==============================] - 2s 27ms/step - loss: 0.7037 - accuracy: 0.5177 - val_loss: 0.7033 - val_accuracy: 0.5042\n",
      "Epoch 23/25\n",
      "69/69 [==============================] - 2s 29ms/step - loss: 0.7029 - accuracy: 0.5485 - val_loss: 0.7031 - val_accuracy: 0.4964\n",
      "Epoch 24/25\n",
      "69/69 [==============================] - 2s 25ms/step - loss: 0.7022 - accuracy: 0.5257 - val_loss: 0.7019 - val_accuracy: 0.4960\n",
      "Epoch 25/25\n",
      "69/69 [==============================] - 2s 24ms/step - loss: 0.7014 - accuracy: 0.5439 - val_loss: 0.7010 - val_accuracy: 0.7028\n",
      "313/313 - 2s - loss: 0.7009 - accuracy: 0.7030\n",
      "test result accuracy : 0.703000009059906\n"
     ]
    },
    {
     "data": {
      "image/png": "[encoded data removed]",
      "text/plain": [
       "<Figure size 720x360 with 1 Axes>"
      ]
     },
     "metadata": {
      "needs_background": "light"
     },
     "output_type": "display_data"
    },
    {
     "data": {
      "image/png": "[encoded data removed]",
      "text/plain": [
       "<Figure size 720x360 with 1 Axes>"
      ]
     },
     "metadata": {
      "needs_background": "light"
     },
     "output_type": "display_data"
    }
   ],
   "source": [
    "from keras.regularizers import l2\n",
    "l2=l2(0.1)\n",
    "model=keras.Sequential()\n",
    "vocab_size=vocab_size\n",
    "word_vector_dim=10\n",
    "epochs=25\n",
    "\n",
    "model.add(keras.layers.Embedding(vocab_size, word_vector_dim, input_shape=(None, )))\n",
    "model.add(keras.layers.LSTM(8, kernel_regularizer=l2))\n",
    "model.add(keras.layers.Dense(8, activation='relu', kernel_regularizer=l2))\n",
    "model.add(keras.layers.Dense(1, activation='sigmoid'))\n",
    "\n",
    "model.compile(optimizer='adam', loss='binary_crossentropy', metrics=['accuracy'])\n",
    "\n",
    "history=model.fit(partial_x_train, partial_y_train, epochs=epochs, batch_size=512, validation_data=(x_val, y_val), verbose=1)\n",
    "print(\"test result accuracy : {}\".format(model.evaluate(x_test, y_test, verbose=2)[1]))\n",
    "history_dict=history.history\n",
    "acc=history_dict['accuracy']\n",
    "loss=history_dict['loss']\n",
    "val_acc=history_dict['val_accuracy']\n",
    "val_loss=history_dict['val_loss']\n",
    "epoch_axis=range(1,epochs+1)\n",
    "fig=plt.figure(figsize=(10,5))\n",
    "plt.plot(epoch_axis, loss, 'bo', label='Training loss')\n",
    "plt.plot(epoch_axis, val_loss, 'b', label='validation loss')\n",
    "plt.title('Training and validation loss')\n",
    "plt.show()\n",
    "\n",
    "fig2=plt.figure(figsize=(10,5))\n",
    "plt.plot(epoch_axis, acc, 'ro', label='Training accuracy')\n",
    "plt.plot(epoch_axis, val_acc, 'r', label='Validation accuracy')\n",
    "plt.title('Training and validation accuracy')\n",
    "plt.show()"
   ]
  },
  {
   "cell_type": "markdown",
   "metadata": {
    "colab_type": "text",
    "id": "couaziXFdHlL"
   },
   "source": [
    "## 7)  Decreasing number of neurons"
   ]
  },
  {
   "cell_type": "code",
   "execution_count": null,
   "metadata": {
    "colab": {
     "base_uri": "https://localhost:8080/",
     "height": 1000
    },
    "colab_type": "code",
    "id": "Wzo9k1P6IyHt",
    "outputId": "1326d96f-5c36-47ca-c965-ec7f988fd295"
   },
   "outputs": [
    {
     "name": "stdout",
     "output_type": "stream",
     "text": [
      "Epoch 1/10\n",
      "69/69 [==============================] - 18s 268ms/step - loss: 2.4660 - accuracy: 0.5436 - val_loss: 2.1525 - val_accuracy: 0.5330\n",
      "Epoch 2/10\n",
      "69/69 [==============================] - 16s 233ms/step - loss: 1.9149 - accuracy: 0.5801 - val_loss: 1.6807 - val_accuracy: 0.7674\n",
      "Epoch 3/10\n",
      "69/69 [==============================] - 16s 236ms/step - loss: 1.4988 - accuracy: 0.8093 - val_loss: 1.3335 - val_accuracy: 0.8310\n",
      "Epoch 4/10\n",
      "69/69 [==============================] - 18s 257ms/step - loss: 1.2038 - accuracy: 0.8480 - val_loss: 1.0967 - val_accuracy: 0.8398\n",
      "Epoch 5/10\n",
      "69/69 [==============================] - 16s 235ms/step - loss: 1.0218 - accuracy: 0.8113 - val_loss: 0.9419 - val_accuracy: 0.8288\n",
      "Epoch 6/10\n",
      "69/69 [==============================] - 16s 236ms/step - loss: 0.9473 - accuracy: 0.7118 - val_loss: 0.9529 - val_accuracy: 0.5044\n",
      "Epoch 7/10\n",
      "69/69 [==============================] - 16s 236ms/step - loss: 0.8971 - accuracy: 0.5138 - val_loss: 0.8572 - val_accuracy: 0.5030\n",
      "Epoch 8/10\n",
      "69/69 [==============================] - 16s 238ms/step - loss: 0.8297 - accuracy: 0.5010 - val_loss: 0.8038 - val_accuracy: 0.5030\n",
      "Epoch 9/10\n",
      "69/69 [==============================] - 17s 239ms/step - loss: 0.7876 - accuracy: 0.5010 - val_loss: 0.7774 - val_accuracy: 0.5030\n",
      "Epoch 10/10\n",
      "69/69 [==============================] - 16s 236ms/step - loss: 0.7593 - accuracy: 0.5010 - val_loss: 0.7445 - val_accuracy: 0.5032\n",
      "313/313 - 7s - loss: 0.7451 - accuracy: 0.4950\n",
      "test result accuracy : 0.4950000047683716\n"
     ]
    },
    {
     "data": {
      "image/png": "[encoded data removed]",
      "text/plain": [
       "<Figure size 720x360 with 1 Axes>"
      ]
     },
     "metadata": {
      "needs_background": "light",
      "tags": []
     },
     "output_type": "display_data"
    },
    {
     "data": {
      "image/png": "[encoded data removed]",
      "text/plain": [
       "<Figure size 720x360 with 1 Axes>"
      ]
     },
     "metadata": {
      "needs_background": "light",
      "tags": []
     },
     "output_type": "display_data"
    }
   ],
   "source": [
    "from keras.regularizers import l2\n",
    "l2=l2(0.1)\n",
    "model=keras.Sequential()\n",
    "vocab_size=vocab_size\n",
    "word_vector_dim=10\n",
    "epochs=10\n",
    "\n",
    "model.add(keras.layers.Embedding(vocab_size, word_vector_dim, input_shape=(None, )))\n",
    "model.add(keras.layers.LSTM(4, kernel_regularizer=l2))\n",
    "model.add(keras.layers.Dense(4, activation='relu', kernel_regularizer=l2))\n",
    "model.add(keras.layers.Dense(4, activation='relu', kernel_regularizer=l2))\n",
    "\n",
    "model.add(keras.layers.Dense(1, activation='sigmoid'))\n",
    "\n",
    "model.compile(optimizer='adam', loss='binary_crossentropy', metrics=['accuracy'])\n",
    "\n",
    "history=model.fit(partial_x_train, partial_y_train, epochs=epochs, batch_size=512, validation_data=(x_val, y_val), verbose=1)\n",
    "print(\"test result accuracy : {}\".format(model.evaluate(x_test, y_test, verbose=2)[1]))\n",
    "history_dict=history.history\n",
    "acc=history_dict['accuracy']\n",
    "loss=history_dict['loss']\n",
    "val_acc=history_dict['val_accuracy']\n",
    "val_loss=history_dict['val_loss']\n",
    "epoch_axis=range(1,epochs+1)\n",
    "fig=plt.figure(figsize=(10,5))\n",
    "plt.plot(epoch_axis, loss, 'bo', label='Training loss')\n",
    "plt.plot(epoch_axis, val_loss, 'b', label='validation loss')\n",
    "plt.title('Training and validation loss')\n",
    "plt.show()\n",
    "\n",
    "fig2=plt.figure(figsize=(10,5))\n",
    "plt.plot(epoch_axis, acc, 'ro', label='Training accuracy')\n",
    "plt.plot(epoch_axis, val_acc, 'r', label='Validation accuracy')\n",
    "plt.title('Training and validation accuracy')\n",
    "plt.show()"
   ]
  },
  {
   "cell_type": "markdown",
   "metadata": {
    "colab_type": "text",
    "id": "fvAHnjEXe8gE"
   },
   "source": [
    "## (8) 모델을 길게 만들기"
   ]
  },
  {
   "cell_type": "code",
   "execution_count": null,
   "metadata": {
    "colab": {
     "base_uri": "https://localhost:8080/",
     "height": 1000
    },
    "colab_type": "code",
    "id": "R1MQpcxfdQOP",
    "outputId": "3dde5fb1-7307-43dc-d090-86de6b99cf27"
   },
   "outputs": [
    {
     "name": "stdout",
     "output_type": "stream",
     "text": [
      "Epoch 1/20\n",
      "69/69 [==============================] - 33s 474ms/step - loss: 2.6849 - accuracy: 0.6087 - val_loss: 2.0691 - val_accuracy: 0.7632\n",
      "Epoch 2/20\n",
      "69/69 [==============================] - 33s 475ms/step - loss: 1.6361 - accuracy: 0.7808 - val_loss: 1.2553 - val_accuracy: 0.8356\n",
      "Epoch 3/20\n",
      "69/69 [==============================] - 33s 472ms/step - loss: 1.0881 - accuracy: 0.8272 - val_loss: 0.9039 - val_accuracy: 0.8340\n",
      "Epoch 4/20\n",
      "69/69 [==============================] - 32s 470ms/step - loss: 0.7189 - accuracy: 0.8718 - val_loss: 0.6386 - val_accuracy: 0.8580\n",
      "Epoch 5/20\n",
      "69/69 [==============================] - 33s 476ms/step - loss: 0.5390 - accuracy: 0.8905 - val_loss: 0.5334 - val_accuracy: 0.8680\n",
      "Epoch 6/20\n",
      "69/69 [==============================] - 32s 469ms/step - loss: 0.4909 - accuracy: 0.8831 - val_loss: 0.4820 - val_accuracy: 0.8646\n",
      "Epoch 7/20\n",
      "69/69 [==============================] - 32s 470ms/step - loss: 0.3971 - accuracy: 0.9076 - val_loss: 0.4320 - val_accuracy: 0.8686\n",
      "Epoch 8/20\n",
      "69/69 [==============================] - 34s 487ms/step - loss: 0.3481 - accuracy: 0.9155 - val_loss: 0.4134 - val_accuracy: 0.8618\n",
      "Epoch 9/20\n",
      "69/69 [==============================] - 33s 472ms/step - loss: 0.3199 - accuracy: 0.9202 - val_loss: 0.3855 - val_accuracy: 0.8732\n",
      "Epoch 10/20\n",
      "69/69 [==============================] - 33s 473ms/step - loss: 0.2925 - accuracy: 0.9270 - val_loss: 0.3854 - val_accuracy: 0.8700\n",
      "Epoch 11/20\n",
      "69/69 [==============================] - 33s 476ms/step - loss: 0.2675 - accuracy: 0.9335 - val_loss: 0.3777 - val_accuracy: 0.8720\n",
      "Epoch 12/20\n",
      "69/69 [==============================] - 33s 475ms/step - loss: 0.2558 - accuracy: 0.9369 - val_loss: 0.3940 - val_accuracy: 0.8684\n",
      "Epoch 13/20\n",
      "69/69 [==============================] - 33s 481ms/step - loss: 0.2502 - accuracy: 0.9359 - val_loss: 0.3601 - val_accuracy: 0.8718\n",
      "Epoch 14/20\n",
      "69/69 [==============================] - 33s 485ms/step - loss: 0.2405 - accuracy: 0.9394 - val_loss: 0.3783 - val_accuracy: 0.8720\n",
      "Epoch 15/20\n",
      "69/69 [==============================] - 33s 479ms/step - loss: 0.2308 - accuracy: 0.9431 - val_loss: 0.3703 - val_accuracy: 0.8736\n",
      "Epoch 16/20\n",
      "69/69 [==============================] - 33s 478ms/step - loss: 0.2282 - accuracy: 0.9420 - val_loss: 0.4124 - val_accuracy: 0.8612\n",
      "Epoch 17/20\n",
      "69/69 [==============================] - 34s 488ms/step - loss: 0.2174 - accuracy: 0.9493 - val_loss: 0.4215 - val_accuracy: 0.8610\n",
      "Epoch 18/20\n",
      "69/69 [==============================] - 32s 466ms/step - loss: 0.2275 - accuracy: 0.9417 - val_loss: 0.3776 - val_accuracy: 0.8738\n",
      "Epoch 19/20\n",
      "69/69 [==============================] - 33s 472ms/step - loss: 0.2006 - accuracy: 0.9551 - val_loss: 0.3821 - val_accuracy: 0.8706\n",
      "Epoch 20/20\n",
      "69/69 [==============================] - 33s 475ms/step - loss: 0.2057 - accuracy: 0.9505 - val_loss: 0.4063 - val_accuracy: 0.8504\n",
      "313/313 - 8s - loss: 0.3982 - accuracy: 0.8568\n",
      "test result accuracy : 0.8568000197410583\n"
     ]
    },
    {
     "data": {
      "image/png": "[encoded data removed]",
      "text/plain": [
       "<Figure size 720x360 with 1 Axes>"
      ]
     },
     "metadata": {
      "needs_background": "light",
      "tags": []
     },
     "output_type": "display_data"
    },
    {
     "data": {
      "image/png": "[encoded data removed]",
      "text/plain": [
       "<Figure size 720x360 with 1 Axes>"
      ]
     },
     "metadata": {
      "needs_background": "light",
      "tags": []
     },
     "output_type": "display_data"
    }
   ],
   "source": [
    "from keras.regularizers import l2\n",
    "l2=l2(0.1)\n",
    "model=keras.Sequential()\n",
    "vocab_size=vocab_size\n",
    "word_vector_dim=10\n",
    "epochs=20\n",
    "\n",
    "model.add(keras.layers.Embedding(vocab_size, word_vector_dim, input_shape=(None, )))\n",
    "model.add(keras.layers.LSTM(16, kernel_regularizer=l2))\n",
    "model.add(keras.layers.Dense(8, activation='relu', kernel_regularizer=l2))\n",
    "model.add(keras.layers.Dense(1, activation='sigmoid'))\n",
    "\n",
    "model.compile(optimizer='adam', loss='binary_crossentropy', metrics=['accuracy'])\n",
    "\n",
    "history=model.fit(partial_x_train, partial_y_train, epochs=epochs, batch_size=512, validation_data=(x_val, y_val), verbose=1)\n",
    "print(\"test result accuracy : {}\".format(model.evaluate(x_test, y_test, verbose=2)[1]))\n",
    "history_dict=history.history\n",
    "acc=history_dict['accuracy']\n",
    "loss=history_dict['loss']\n",
    "val_acc=history_dict['val_accuracy']\n",
    "val_loss=history_dict['val_loss']\n",
    "epoch_axis=range(1,epochs+1)\n",
    "fig=plt.figure(figsize=(10,5))\n",
    "plt.plot(epoch_axis, loss, 'bo', label='Training loss')\n",
    "plt.plot(epoch_axis, val_loss, 'b', label='validation loss')\n",
    "plt.title('Training and validation loss')\n",
    "plt.show()\n",
    "\n",
    "fig2=plt.figure(figsize=(10,5))\n",
    "plt.plot(epoch_axis, acc, 'ro', label='Training accuracy')\n",
    "plt.plot(epoch_axis, val_acc, 'r', label='Validation accuracy')\n",
    "plt.title('Training and validation accuracy')\n",
    "plt.show()"
   ]
  },
  {
   "cell_type": "markdown",
   "metadata": {},
   "source": [
    "## 8) More neurons"
   ]
  },
  {
   "cell_type": "code",
   "execution_count": null,
   "metadata": {
    "colab": {
     "base_uri": "https://localhost:8080/",
     "height": 1000
    },
    "colab_type": "code",
    "id": "Ct_cm0qNe7Fo",
    "outputId": "e9b403ff-32c1-4b7c-8428-3199207240ed"
   },
   "outputs": [
    {
     "name": "stdout",
     "output_type": "stream",
     "text": [
      "Epoch 1/20\n",
      "69/69 [==============================] - 33s 477ms/step - loss: 3.2151 - accuracy: 0.5797 - val_loss: 2.4940 - val_accuracy: 0.5006\n",
      "Epoch 2/20\n",
      "69/69 [==============================] - 32s 459ms/step - loss: 2.0017 - accuracy: 0.7072 - val_loss: 1.5484 - val_accuracy: 0.7978\n",
      "Epoch 3/20\n",
      "69/69 [==============================] - 32s 458ms/step - loss: 1.3634 - accuracy: 0.6577 - val_loss: 1.1300 - val_accuracy: 0.7800\n",
      "Epoch 4/20\n",
      "69/69 [==============================] - 32s 461ms/step - loss: 1.0123 - accuracy: 0.6792 - val_loss: 0.8575 - val_accuracy: 0.8284\n",
      "Epoch 5/20\n",
      "69/69 [==============================] - 32s 459ms/step - loss: 0.7428 - accuracy: 0.8426 - val_loss: 0.6835 - val_accuracy: 0.7966\n",
      "Epoch 6/20\n",
      "69/69 [==============================] - 33s 481ms/step - loss: 0.6699 - accuracy: 0.8167 - val_loss: 0.6438 - val_accuracy: 0.8200\n",
      "Epoch 7/20\n",
      "69/69 [==============================] - 32s 461ms/step - loss: 0.5205 - accuracy: 0.8678 - val_loss: 0.4861 - val_accuracy: 0.8596\n",
      "Epoch 8/20\n",
      "69/69 [==============================] - 32s 464ms/step - loss: 0.4299 - accuracy: 0.8838 - val_loss: 0.5054 - val_accuracy: 0.8240\n",
      "Epoch 9/20\n",
      "69/69 [==============================] - 32s 460ms/step - loss: 0.5930 - accuracy: 0.7334 - val_loss: 0.5538 - val_accuracy: 0.7964\n",
      "Epoch 10/20\n",
      "69/69 [==============================] - 32s 465ms/step - loss: 0.4874 - accuracy: 0.8533 - val_loss: 0.4878 - val_accuracy: 0.8392\n",
      "Epoch 11/20\n",
      "69/69 [==============================] - 32s 467ms/step - loss: 0.4309 - accuracy: 0.8786 - val_loss: 0.4573 - val_accuracy: 0.8506\n",
      "Epoch 12/20\n",
      "69/69 [==============================] - 32s 460ms/step - loss: 0.3965 - accuracy: 0.8888 - val_loss: 0.4376 - val_accuracy: 0.8586\n",
      "Epoch 13/20\n",
      "69/69 [==============================] - 32s 464ms/step - loss: 0.3702 - accuracy: 0.8959 - val_loss: 0.4240 - val_accuracy: 0.8586\n",
      "Epoch 14/20\n",
      "69/69 [==============================] - 32s 463ms/step - loss: 0.3447 - accuracy: 0.9047 - val_loss: 0.4127 - val_accuracy: 0.8540\n",
      "Epoch 15/20\n",
      "69/69 [==============================] - 32s 464ms/step - loss: 0.3256 - accuracy: 0.9099 - val_loss: 0.4008 - val_accuracy: 0.8642\n",
      "Epoch 16/20\n",
      "69/69 [==============================] - 33s 478ms/step - loss: 0.3078 - accuracy: 0.9166 - val_loss: 0.3944 - val_accuracy: 0.8604\n",
      "Epoch 17/20\n",
      "69/69 [==============================] - 32s 463ms/step - loss: 0.2960 - accuracy: 0.9195 - val_loss: 0.3857 - val_accuracy: 0.8628\n",
      "Epoch 18/20\n",
      "69/69 [==============================] - 32s 464ms/step - loss: 0.2973 - accuracy: 0.9167 - val_loss: 0.3745 - val_accuracy: 0.8726\n",
      "Epoch 19/20\n",
      "69/69 [==============================] - 32s 464ms/step - loss: 0.2884 - accuracy: 0.9165 - val_loss: 0.4191 - val_accuracy: 0.8444\n",
      "Epoch 20/20\n",
      "69/69 [==============================] - 33s 474ms/step - loss: 0.3098 - accuracy: 0.9040 - val_loss: 0.3942 - val_accuracy: 0.8546\n",
      "313/313 - 8s - loss: 0.3809 - accuracy: 0.8622\n",
      "test result accuracy : 0.8622000217437744\n"
     ]
    },
    {
     "data": {
      "image/png": "[encoded data removed]",
      "text/plain": [
       "<Figure size 720x360 with 1 Axes>"
      ]
     },
     "metadata": {
      "needs_background": "light",
      "tags": []
     },
     "output_type": "display_data"
    },
    {
     "data": {
      "image/png": "[encoded data removed]",
      "text/plain": [
       "<Figure size 720x360 with 1 Axes>"
      ]
     },
     "metadata": {
      "needs_background": "light",
      "tags": []
     },
     "output_type": "display_data"
    }
   ],
   "source": [
    "\n",
    "from keras.regularizers import l2\n",
    "l2=l2(0.1)\n",
    "model=keras.Sequential()\n",
    "vocab_size=vocab_size\n",
    "word_vector_dim=10\n",
    "epochs=20\n",
    "\n",
    "model.add(keras.layers.Embedding(vocab_size, word_vector_dim, input_shape=(None, )))\n",
    "model.add(keras.layers.LSTM(16, kernel_regularizer=l2))\n",
    "model.add(keras.layers.Dense(16, activation='relu', kernel_regularizer=l2))\n",
    "model.add(keras.layers.Dense(1, activation='sigmoid'))\n",
    "\n",
    "model.compile(optimizer='adam', loss='binary_crossentropy', metrics=['accuracy'])\n",
    "\n",
    "history=model.fit(partial_x_train, partial_y_train, epochs=epochs, batch_size=512, validation_data=(x_val, y_val), verbose=1)\n",
    "print(\"test result accuracy : {}\".format(model.evaluate(x_test, y_test, verbose=2)[1]))\n",
    "history_dict=history.history\n",
    "acc=history_dict['accuracy']\n",
    "loss=history_dict['loss']\n",
    "val_acc=history_dict['val_accuracy']\n",
    "val_loss=history_dict['val_loss']\n",
    "epoch_axis=range(1,epochs+1)\n",
    "fig=plt.figure(figsize=(10,5))\n",
    "plt.plot(epoch_axis, loss, 'bo', label='Training loss')\n",
    "plt.plot(epoch_axis, val_loss, 'b', label='validation loss')\n",
    "plt.title('Training and validation loss')\n",
    "plt.show()\n",
    "\n",
    "fig2=plt.figure(figsize=(10,5))\n",
    "plt.plot(epoch_axis, acc, 'ro', label='Training accuracy')\n",
    "plt.plot(epoch_axis, val_acc, 'r', label='Validation accuracy')\n",
    "plt.title('Training and validation accuracy')\n",
    "plt.show()"
   ]
  },
  {
   "cell_type": "markdown",
   "metadata": {},
   "source": [
    "## 9) More layers\n",
    "\n",
    "- result : accuracy dropped to 50%\n",
    "- learning : LSTM is prone to overfitting"
   ]
  },
  {
   "cell_type": "code",
   "execution_count": null,
   "metadata": {
    "colab": {
     "base_uri": "https://localhost:8080/",
     "height": 1000
    },
    "colab_type": "code",
    "id": "cMRpMTs3faBd",
    "outputId": "e440f923-9ccf-4e00-bf24-4a8810d221be"
   },
   "outputs": [
    {
     "name": "stdout",
     "output_type": "stream",
     "text": [
      "Epoch 1/20\n",
      "69/69 [==============================] - 33s 472ms/step - loss: 4.1094 - accuracy: 0.5164 - val_loss: 3.1922 - val_accuracy: 0.6976\n",
      "Epoch 2/20\n",
      "69/69 [==============================] - 32s 457ms/step - loss: 2.5892 - accuracy: 0.6728 - val_loss: 2.0944 - val_accuracy: 0.4970\n",
      "Epoch 3/20\n",
      "69/69 [==============================] - 32s 457ms/step - loss: 1.7532 - accuracy: 0.5047 - val_loss: 1.4623 - val_accuracy: 0.5030\n",
      "Epoch 4/20\n",
      "69/69 [==============================] - 32s 461ms/step - loss: 1.2747 - accuracy: 0.5010 - val_loss: 1.1129 - val_accuracy: 0.5030\n",
      "Epoch 5/20\n",
      "69/69 [==============================] - 33s 480ms/step - loss: 1.0088 - accuracy: 0.5010 - val_loss: 0.9193 - val_accuracy: 0.5030\n",
      "Epoch 6/20\n",
      "69/69 [==============================] - 32s 459ms/step - loss: 0.8621 - accuracy: 0.5010 - val_loss: 0.8130 - val_accuracy: 0.5030\n",
      "Epoch 7/20\n",
      "69/69 [==============================] - 32s 461ms/step - loss: 0.7820 - accuracy: 0.5010 - val_loss: 0.7554 - val_accuracy: 0.5030\n",
      "Epoch 8/20\n",
      "69/69 [==============================] - 32s 462ms/step - loss: 0.7388 - accuracy: 0.4984 - val_loss: 0.7246 - val_accuracy: 0.5030\n",
      "Epoch 9/20\n",
      "69/69 [==============================] - 32s 470ms/step - loss: 0.7159 - accuracy: 0.5010 - val_loss: 0.7086 - val_accuracy: 0.5030\n",
      "Epoch 10/20\n",
      "69/69 [==============================] - 32s 459ms/step - loss: 0.7042 - accuracy: 0.4977 - val_loss: 0.7005 - val_accuracy: 0.4970\n",
      "Epoch 11/20\n",
      "69/69 [==============================] - 32s 463ms/step - loss: 0.6983 - accuracy: 0.5001 - val_loss: 0.6965 - val_accuracy: 0.5030\n",
      "Epoch 12/20\n",
      "69/69 [==============================] - 32s 464ms/step - loss: 0.6955 - accuracy: 0.4987 - val_loss: 0.6947 - val_accuracy: 0.4970\n",
      "Epoch 13/20\n",
      "69/69 [==============================] - 32s 463ms/step - loss: 0.6942 - accuracy: 0.4989 - val_loss: 0.6938 - val_accuracy: 0.5030\n",
      "Epoch 14/20\n",
      "69/69 [==============================] - 32s 468ms/step - loss: 0.6936 - accuracy: 0.4976 - val_loss: 0.6934 - val_accuracy: 0.5030\n",
      "Epoch 15/20\n",
      "69/69 [==============================] - 32s 470ms/step - loss: 0.6933 - accuracy: 0.5010 - val_loss: 0.6932 - val_accuracy: 0.5030\n",
      "Epoch 16/20\n",
      "69/69 [==============================] - 32s 460ms/step - loss: 0.6932 - accuracy: 0.4967 - val_loss: 0.6932 - val_accuracy: 0.5030\n",
      "Epoch 17/20\n",
      "69/69 [==============================] - 32s 461ms/step - loss: 0.6932 - accuracy: 0.5010 - val_loss: 0.6932 - val_accuracy: 0.5030\n",
      "Epoch 18/20\n",
      "69/69 [==============================] - 32s 465ms/step - loss: 0.6932 - accuracy: 0.4981 - val_loss: 0.6931 - val_accuracy: 0.5030\n",
      "Epoch 19/20\n",
      "69/69 [==============================] - 32s 458ms/step - loss: 0.6932 - accuracy: 0.5010 - val_loss: 0.6931 - val_accuracy: 0.5030\n",
      "Epoch 20/20\n",
      "69/69 [==============================] - 32s 459ms/step - loss: 0.6932 - accuracy: 0.4981 - val_loss: 0.6931 - val_accuracy: 0.5030\n",
      "313/313 - 8s - loss: 0.6932 - accuracy: 0.4950\n",
      "test result accuracy : 0.4950000047683716\n"
     ]
    },
    {
     "data": {
      "image/png": "[encoded data removed]",
      "text/plain": [
       "<Figure size 720x360 with 1 Axes>"
      ]
     },
     "metadata": {
      "needs_background": "light",
      "tags": []
     },
     "output_type": "display_data"
    },
    {
     "data": {
      "image/png": "[encoded data removed]",
      "text/plain": [
       "<Figure size 720x360 with 1 Axes>"
      ]
     },
     "metadata": {
      "needs_background": "light",
      "tags": []
     },
     "output_type": "display_data"
    }
   ],
   "source": [
    "from keras.regularizers import l2\n",
    "l2=l2(0.1)\n",
    "model=keras.Sequential()\n",
    "vocab_size=vocab_size\n",
    "word_vector_dim=10\n",
    "epochs=20\n",
    "\n",
    "model.add(keras.layers.Embedding(vocab_size, word_vector_dim, input_shape=(None, )))\n",
    "model.add(keras.layers.LSTM(16, kernel_regularizer=l2))\n",
    "model.add(keras.layers.Dense(16, activation='relu', kernel_regularizer=l2))\n",
    "model.add(keras.layers.Dense(8, activation='relu', kernel_regularizer=l2))\n",
    "model.add(keras.layers.Dense(1, activation='sigmoid'))\n",
    "\n",
    "model.compile(optimizer='adam', loss='binary_crossentropy', metrics=['accuracy'])\n",
    "\n",
    "history=model.fit(partial_x_train, partial_y_train, epochs=epochs, batch_size=512, validation_data=(x_val, y_val), verbose=1)\n",
    "print(\"test result accuracy : {}\".format(model.evaluate(x_test, y_test, verbose=2)[1]))\n",
    "history_dict=history.history\n",
    "acc=history_dict['accuracy']\n",
    "loss=history_dict['loss']\n",
    "val_acc=history_dict['val_accuracy']\n",
    "val_loss=history_dict['val_loss']\n",
    "epoch_axis=range(1,epochs+1)\n",
    "fig=plt.figure(figsize=(10,5))\n",
    "plt.plot(epoch_axis, loss, 'bo', label='Training loss')\n",
    "plt.plot(epoch_axis, val_loss, 'b', label='validation loss')\n",
    "plt.title('Training and validation loss')\n",
    "plt.show()\n",
    "\n",
    "fig2=plt.figure(figsize=(10,5))\n",
    "plt.plot(epoch_axis, acc, 'ro', label='Training accuracy')\n",
    "plt.plot(epoch_axis, val_acc, 'r', label='Validation accuracy')\n",
    "plt.title('Training and validation accuracy')\n",
    "plt.show()"
   ]
  },
  {
   "cell_type": "markdown",
   "metadata": {
    "colab_type": "text",
    "id": "-tnwZWz-CK5u"
   },
   "source": [
    "# 4. Utilitzing Word2Vec"
   ]
  },
  {
   "cell_type": "code",
   "execution_count": 33,
   "metadata": {},
   "outputs": [],
   "source": [
    "import numpy as np\n",
    "import keras\n",
    "from keras.datasets import imdb\n",
    "import sklearn\n",
    "from sklearn.model_selection import train_test_split\n",
    "(x_train, y_train), (x_test, y_test)=imdb.load_data(num_words=vocab_size)\n",
    "X=np.append(x_train, x_test)\n",
    "Y=np.append(y_train, y_test)\n",
    "x_train, x_test, y_train, y_test=train_test_split(X,Y, test_size=0.2)\n",
    "\n",
    "x_train=keras.preprocessing.sequence.pad_sequences(x_train, value=word_to_index['<PAD>'], padding='pre', maxlen=outlier_boundary)\n",
    "x_train.shape\n",
    "x_test=keras.preprocessing.sequence.pad_sequences(x_test, value=word_to_index['<PAD>'], padding='pre', maxlen=outlier_boundary)\n",
    "\n",
    "x_val=x_train[:5000]\n",
    "y_val=y_train[:5000]\n",
    "partial_x_train=x_train[5000:]\n",
    "partial_y_train=y_train[5000:]\n"
   ]
  },
  {
   "cell_type": "markdown",
   "metadata": {},
   "source": [
    "## 1) CNN model"
   ]
  },
  {
   "cell_type": "code",
   "execution_count": 34,
   "metadata": {
    "colab": {},
    "colab_type": "code",
    "id": "5CxKa1e9CJ0i"
   },
   "outputs": [
    {
     "name": "stdout",
     "output_type": "stream",
     "text": [
      "(10000, 10)\n",
      "[[-0.05594705 -0.00768938 -0.05340236 ...  0.01213985  0.02320601\n",
      "   0.06246656]\n",
      " [ 0.11805663  0.01974993  0.24073973 ... -0.0075242  -0.0125765\n",
      "  -0.05761702]\n",
      " [-0.04811366 -0.05273681 -0.06168048 ...  0.01437197  0.00100175\n",
      "  -0.01352262]\n",
      " ...\n",
      " [ 0.08506051  0.09562019  0.0371185  ...  0.10409603 -0.09807666\n",
      "  -0.11235011]\n",
      " [-0.01009757 -0.03365939 -0.03649514 ... -0.02263849  0.02528537\n",
      "  -0.02877034]\n",
      " [ 0.02578883 -0.02559094 -0.04799198 ...  0.00720673  0.01062883\n",
      "   0.04179902]]\n"
     ]
    }
   ],
   "source": [
    "embedding_layer = model.layers[0]\n",
    "weights = embedding_layer.get_weights()[0]\n",
    "print(weights.shape)    # shape: (vocab_size, embedding_dim)\n",
    "print(weights)"
   ]
  },
  {
   "cell_type": "code",
   "execution_count": 35,
   "metadata": {
    "colab": {},
    "colab_type": "code",
    "id": "quNxxWrj-s8-"
   },
   "outputs": [],
   "source": [
    "import os\n",
    "#1. 내가 만든 embedded layer 사용하기\n",
    "\n",
    "# 학습한 Embedding 파라미터를 파일에 써서 저장합니다. \n",
    "word2vec_file_path = os.getenv('HOME')+'/aiffel/sentimental_classification/word2vec.txt'\n",
    "f = open(word2vec_file_path, 'w')\n",
    "f.write('{} {}\\n'.format(vocab_size-4, word_vector_dim))  # 몇개의 벡터를 얼마 사이즈로 기재할지 타이틀을 씁니다.\n",
    "\n",
    "# 단어 개수(에서 특수문자 4개는 제외하고)만큼의 워드 벡터를 파일에 기록합니다. \n",
    "vectors = model.get_weights()[0]\n",
    "for i in range(4,vocab_size):\n",
    "    f.write('{} {}\\n'.format(index_to_word[i], ' '.join(map(str, list(vectors[i, :])))))\n",
    "f.close()\n",
    "\n",
    "#gensim에서 제공하는 패키지를 이용해, 위에 남긴 임베딩 파라미터를 읽어서 word vector로 활용할 수 있습니다.\n",
    "\n",
    "from gensim.models.keyedvectors import Word2VecKeyedVectors\n",
    "\n",
    "word_vectors = Word2VecKeyedVectors.load_word2vec_format(word2vec_file_path, binary=False)"
   ]
  },
  {
   "cell_type": "code",
   "execution_count": null,
   "metadata": {
    "colab": {},
    "colab_type": "code",
    "id": "Zzuyfppl_EIe",
    "scrolled": true
   },
   "outputs": [],
   "source": []
  },
  {
   "cell_type": "code",
   "execution_count": 36,
   "metadata": {},
   "outputs": [],
   "source": [
    "from gensim.models import KeyedVectors\n",
    "word2vec_path=os.getenv('HOME')+'/aiffel/sentimental_classification/GoogleNews-vectors-negative300.bin.gz'\n",
    "word2vec=KeyedVectors.load_word2vec_format(word2vec_path, binary=True)"
   ]
  },
  {
   "cell_type": "code",
   "execution_count": 37,
   "metadata": {},
   "outputs": [
    {
     "data": {
      "text/plain": [
       "<gensim.models.keyedvectors.Word2VecKeyedVectors at 0x7f448e476110>"
      ]
     },
     "execution_count": 37,
     "metadata": {},
     "output_type": "execute_result"
    }
   ],
   "source": [
    "word2vec"
   ]
  },
  {
   "cell_type": "code",
   "execution_count": 38,
   "metadata": {
    "colab": {},
    "colab_type": "code",
    "id": "rGiPS-3LB7G-"
   },
   "outputs": [],
   "source": [
    "# 이제 우리는 이전 스텝에서 학습했던 모델의 임베딩 레이어를 Word2Vec의 것으로 교체하여 다시 학습시켜 볼 것입니다.\n",
    "vocab_size = 10000    # 어휘 사전의 크기입니다(10,000개의 단어)\n",
    "word_vector_dim = 300  # 워드 벡터의 차원수 (변경가능한 하이퍼파라미터)\n",
    "\n",
    "embedding_matrix = np.random.rand(vocab_size, word_vector_dim)\n",
    "\n",
    "# embedding_matrix에 Word2Vec 워드벡터를 단어 하나씩마다 차례차례 카피한다.\n",
    "for i in range(4,vocab_size):\n",
    "    if index_to_word[i] in word2vec:\n",
    "        embedding_matrix[i] = word2vec[index_to_word[i]]\n",
    "\n",
    "from keras.initializers import Constant\n",
    "\n",
    "vocab_size = 10000    # 어휘 사전의 크기입니다(10,000개의 단어)\n",
    "word_vector_dim = 300  # 워드 벡터의 차원수 (변경가능한 하이퍼파라미터\n"
   ]
  },
  {
   "cell_type": "code",
   "execution_count": 40,
   "metadata": {
    "colab": {},
    "colab_type": "code",
    "id": "n9wL4on7B3Xe"
   },
   "outputs": [
    {
     "name": "stdout",
     "output_type": "stream",
     "text": [
      "Model: \"sequential_2\"\n",
      "_________________________________________________________________\n",
      "Layer (type)                 Output Shape              Param #   \n",
      "=================================================================\n",
      "embedding_1 (Embedding)      (None, 580, 300)          3000000   \n",
      "_________________________________________________________________\n",
      "conv1d (Conv1D)              (None, 574, 16)           33616     \n",
      "_________________________________________________________________\n",
      "max_pooling1d (MaxPooling1D) (None, 114, 16)           0         \n",
      "_________________________________________________________________\n",
      "conv1d_1 (Conv1D)            (None, 108, 16)           1808      \n",
      "_________________________________________________________________\n",
      "global_max_pooling1d (Global (None, 16)                0         \n",
      "_________________________________________________________________\n",
      "dense_2 (Dense)              (None, 8)                 136       \n",
      "_________________________________________________________________\n",
      "dense_3 (Dense)              (None, 1)                 9         \n",
      "=================================================================\n",
      "Total params: 3,035,569\n",
      "Trainable params: 3,035,569\n",
      "Non-trainable params: 0\n",
      "_________________________________________________________________\n"
     ]
    }
   ],
   "source": [
    "# 모델 구성\n",
    "model_cnn = keras.Sequential()\n",
    "model_cnn.add(keras.layers.Embedding(vocab_size, \n",
    "                                 word_vector_dim, \n",
    "                                 embeddings_initializer=Constant(embedding_matrix),  # 카피한 임베딩을 여기서 활용\n",
    "                                 input_length=outlier_boundary, \n",
    "                                 trainable=True))   # trainable을 True로 주면 Fine-tuning\n",
    "model_cnn.add(keras.layers.Conv1D(16, 7, activation='relu'))\n",
    "model_cnn.add(keras.layers.MaxPooling1D(5))\n",
    "model_cnn.add(keras.layers.Conv1D(16, 7, activation='relu'))\n",
    "model_cnn.add(keras.layers.GlobalMaxPooling1D())\n",
    "model_cnn.add(keras.layers.Dense(8, activation='relu'))\n",
    "model_cnn.add(keras.layers.Dense(1, activation='sigmoid')) \n",
    "\n",
    "model_cnn.summary()"
   ]
  },
  {
   "cell_type": "code",
   "execution_count": 42,
   "metadata": {
    "colab": {},
    "colab_type": "code",
    "id": "rQbqDUQLB2wQ"
   },
   "outputs": [
    {
     "name": "stdout",
     "output_type": "stream",
     "text": [
      "Epoch 1/20\n",
      "69/69 [==============================] - 29s 425ms/step - loss: 0.6427 - accuracy: 0.6287 - val_loss: 0.5158 - val_accuracy: 0.7772\n",
      "Epoch 2/20\n",
      "69/69 [==============================] - 12s 174ms/step - loss: 0.3903 - accuracy: 0.8315 - val_loss: 0.3165 - val_accuracy: 0.8662\n",
      "Epoch 3/20\n",
      "69/69 [==============================] - 12s 167ms/step - loss: 0.2680 - accuracy: 0.8896 - val_loss: 0.2840 - val_accuracy: 0.8798\n",
      "Epoch 4/20\n",
      "69/69 [==============================] - 12s 167ms/step - loss: 0.2078 - accuracy: 0.9201 - val_loss: 0.2758 - val_accuracy: 0.8852\n",
      "Epoch 5/20\n",
      "69/69 [==============================] - 12s 168ms/step - loss: 0.1675 - accuracy: 0.9403 - val_loss: 0.2971 - val_accuracy: 0.8766\n",
      "Epoch 6/20\n",
      "69/69 [==============================] - 12s 175ms/step - loss: 0.1291 - accuracy: 0.9589 - val_loss: 0.2914 - val_accuracy: 0.8848\n",
      "Epoch 7/20\n",
      "69/69 [==============================] - 12s 170ms/step - loss: 0.0932 - accuracy: 0.9756 - val_loss: 0.3285 - val_accuracy: 0.8726\n",
      "Epoch 8/20\n",
      "69/69 [==============================] - 12s 168ms/step - loss: 0.0675 - accuracy: 0.9859 - val_loss: 0.3316 - val_accuracy: 0.8826\n",
      "Epoch 9/20\n",
      "69/69 [==============================] - 12s 170ms/step - loss: 0.0462 - accuracy: 0.9924 - val_loss: 0.3545 - val_accuracy: 0.8790\n",
      "Epoch 10/20\n",
      "69/69 [==============================] - 12s 170ms/step - loss: 0.0307 - accuracy: 0.9968 - val_loss: 0.3794 - val_accuracy: 0.8802\n",
      "Epoch 11/20\n",
      "69/69 [==============================] - 12s 180ms/step - loss: 0.0200 - accuracy: 0.9985 - val_loss: 0.4002 - val_accuracy: 0.8776\n",
      "Epoch 12/20\n",
      "69/69 [==============================] - 12s 169ms/step - loss: 0.0141 - accuracy: 0.9989 - val_loss: 0.4218 - val_accuracy: 0.8778\n",
      "Epoch 13/20\n",
      "69/69 [==============================] - 12s 179ms/step - loss: 0.0100 - accuracy: 0.9993 - val_loss: 0.4384 - val_accuracy: 0.8792\n",
      "Epoch 14/20\n",
      "69/69 [==============================] - 12s 181ms/step - loss: 0.0078 - accuracy: 0.9995 - val_loss: 0.4570 - val_accuracy: 0.8798\n",
      "Epoch 15/20\n",
      "69/69 [==============================] - 12s 177ms/step - loss: 0.0063 - accuracy: 0.9996 - val_loss: 0.4714 - val_accuracy: 0.8794\n",
      "Epoch 16/20\n",
      "69/69 [==============================] - 12s 173ms/step - loss: 0.0049 - accuracy: 0.9997 - val_loss: 0.4890 - val_accuracy: 0.8798\n",
      "Epoch 17/20\n",
      "69/69 [==============================] - 12s 171ms/step - loss: 0.0038 - accuracy: 0.9997 - val_loss: 0.5010 - val_accuracy: 0.8794\n",
      "Epoch 18/20\n",
      "69/69 [==============================] - 12s 168ms/step - loss: 0.0031 - accuracy: 0.9998 - val_loss: 0.5183 - val_accuracy: 0.8778\n",
      "Epoch 19/20\n",
      "69/69 [==============================] - 12s 168ms/step - loss: 0.0022 - accuracy: 0.9999 - val_loss: 0.5305 - val_accuracy: 0.8790\n",
      "Epoch 20/20\n",
      "69/69 [==============================] - 12s 168ms/step - loss: 0.0017 - accuracy: 1.0000 - val_loss: 0.5438 - val_accuracy: 0.8802\n",
      "313/313 - 8s - loss: 0.5757 - accuracy: 0.8749\n",
      "[0.5757283568382263, 0.8748999834060669]\n"
     ]
    }
   ],
   "source": [
    "# 학습의 진행\n",
    "model_cnn.compile(optimizer='adam',\n",
    "              loss='binary_crossentropy',\n",
    "              metrics=['accuracy'])\n",
    "              \n",
    "epochs=20  # 몇 epoch를 훈련하면 좋을지 결과를 보면서 바꾸어 봅시다. \n",
    "\n",
    "history_cnn = model_cnn.fit(partial_x_train,\n",
    "                    partial_y_train,\n",
    "                    epochs=epochs,\n",
    "                    batch_size=512,\n",
    "                    validation_data=(x_val, y_val),\n",
    "                    verbose=1)\n",
    "\n",
    "# 테스트셋을 통한 모델 평가\n",
    "results = model_cnn.evaluate(x_test,  y_test, verbose=2)\n",
    "\n",
    "print(results)"
   ]
  },
  {
   "cell_type": "markdown",
   "metadata": {},
   "source": [
    "## 2) RNN best case model\n",
    "\n",
    "### (1) Regularize term : 0.01 _ Accurcay : 87%"
   ]
  },
  {
   "cell_type": "code",
   "execution_count": 45,
   "metadata": {},
   "outputs": [
    {
     "name": "stdout",
     "output_type": "stream",
     "text": [
      "Epoch 1/25\n",
      "69/69 [==============================] - 12s 174ms/step - loss: 1.0295 - accuracy: 0.6325 - val_loss: 0.7804 - val_accuracy: 0.7290\n",
      "Epoch 2/25\n",
      "69/69 [==============================] - 11s 166ms/step - loss: 0.5966 - accuracy: 0.8162 - val_loss: 0.5155 - val_accuracy: 0.8418\n",
      "Epoch 3/25\n",
      "69/69 [==============================] - 11s 163ms/step - loss: 0.4424 - accuracy: 0.8745 - val_loss: 0.4425 - val_accuracy: 0.8652\n",
      "Epoch 4/25\n",
      "69/69 [==============================] - 11s 163ms/step - loss: 0.3714 - accuracy: 0.9015 - val_loss: 0.4151 - val_accuracy: 0.8736\n",
      "Epoch 5/25\n",
      "69/69 [==============================] - 11s 163ms/step - loss: 0.3240 - accuracy: 0.9174 - val_loss: 0.3908 - val_accuracy: 0.8808\n",
      "Epoch 6/25\n",
      "69/69 [==============================] - 12s 168ms/step - loss: 0.2903 - accuracy: 0.9285 - val_loss: 0.3960 - val_accuracy: 0.8708\n",
      "Epoch 7/25\n",
      "69/69 [==============================] - 11s 164ms/step - loss: 0.2667 - accuracy: 0.9356 - val_loss: 0.3753 - val_accuracy: 0.8798\n",
      "Epoch 8/25\n",
      "69/69 [==============================] - 12s 174ms/step - loss: 0.2362 - accuracy: 0.9462 - val_loss: 0.3683 - val_accuracy: 0.8804\n",
      "Epoch 9/25\n",
      "69/69 [==============================] - 11s 165ms/step - loss: 0.2217 - accuracy: 0.9492 - val_loss: 0.3752 - val_accuracy: 0.8848\n",
      "Epoch 10/25\n",
      "69/69 [==============================] - 11s 166ms/step - loss: 0.2101 - accuracy: 0.9530 - val_loss: 0.3815 - val_accuracy: 0.8836\n",
      "Epoch 11/25\n",
      "69/69 [==============================] - 12s 173ms/step - loss: 0.1901 - accuracy: 0.9597 - val_loss: 0.3834 - val_accuracy: 0.8798\n",
      "Epoch 12/25\n",
      "69/69 [==============================] - 12s 170ms/step - loss: 0.1810 - accuracy: 0.9626 - val_loss: 0.3917 - val_accuracy: 0.8800\n",
      "Epoch 13/25\n",
      "69/69 [==============================] - 12s 170ms/step - loss: 0.1792 - accuracy: 0.9621 - val_loss: 0.3886 - val_accuracy: 0.8782\n",
      "Epoch 14/25\n",
      "69/69 [==============================] - 11s 165ms/step - loss: 0.1667 - accuracy: 0.9662 - val_loss: 0.4486 - val_accuracy: 0.8638\n",
      "Epoch 15/25\n",
      "69/69 [==============================] - 11s 165ms/step - loss: 0.1635 - accuracy: 0.9673 - val_loss: 0.4100 - val_accuracy: 0.8792\n",
      "Epoch 16/25\n",
      "69/69 [==============================] - 12s 171ms/step - loss: 0.1528 - accuracy: 0.9705 - val_loss: 0.4449 - val_accuracy: 0.8680\n",
      "Epoch 17/25\n",
      "69/69 [==============================] - 12s 168ms/step - loss: 0.1515 - accuracy: 0.9703 - val_loss: 0.4134 - val_accuracy: 0.8752\n",
      "Epoch 18/25\n",
      "69/69 [==============================] - 11s 165ms/step - loss: 0.1510 - accuracy: 0.9705 - val_loss: 0.4465 - val_accuracy: 0.8702\n",
      "Epoch 19/25\n",
      "69/69 [==============================] - 11s 165ms/step - loss: 0.1474 - accuracy: 0.9715 - val_loss: 0.4377 - val_accuracy: 0.8702\n",
      "Epoch 20/25\n",
      "69/69 [==============================] - 11s 165ms/step - loss: 0.1272 - accuracy: 0.9799 - val_loss: 0.4261 - val_accuracy: 0.8744\n",
      "Epoch 21/25\n",
      "69/69 [==============================] - 11s 165ms/step - loss: 0.1198 - accuracy: 0.9818 - val_loss: 0.4338 - val_accuracy: 0.8722\n",
      "Epoch 22/25\n",
      "69/69 [==============================] - 12s 167ms/step - loss: 0.1820 - accuracy: 0.9568 - val_loss: 0.4275 - val_accuracy: 0.8766\n",
      "Epoch 23/25\n",
      "69/69 [==============================] - 11s 165ms/step - loss: 0.1628 - accuracy: 0.9624 - val_loss: 0.4302 - val_accuracy: 0.8780\n",
      "Epoch 24/25\n",
      "69/69 [==============================] - 11s 165ms/step - loss: 0.1222 - accuracy: 0.9799 - val_loss: 0.4460 - val_accuracy: 0.8796\n",
      "Epoch 25/25\n",
      "69/69 [==============================] - 11s 165ms/step - loss: 0.1114 - accuracy: 0.9836 - val_loss: 0.4594 - val_accuracy: 0.8692\n",
      "313/313 - 3s - loss: 0.4410 - accuracy: 0.8733\n",
      "test result accuracy : 0.8733000159263611\n"
     ]
    },
    {
     "data": {
      "image/png": "[encoded data removed]",
      "text/plain": [
       "<Figure size 720x360 with 1 Axes>"
      ]
     },
     "metadata": {
      "needs_background": "light"
     },
     "output_type": "display_data"
    },
    {
     "data": {
      "image/png": "[encoded data removed]",
      "text/plain": [
       "<Figure size 720x360 with 1 Axes>"
      ]
     },
     "metadata": {
      "needs_background": "light"
     },
     "output_type": "display_data"
    }
   ],
   "source": [
    "from keras.regularizers import l2\n",
    "l2=l2(0.01)\n",
    "model_rnn=keras.Sequential()\n",
    "vocab_size=vocab_size\n",
    "word_vector_dim=300\n",
    "epochs=25\n",
    "\n",
    "model_rnn.add(keras.layers.Embedding(vocab_size, word_vector_dim,\n",
    "                                 embeddings_initializer=Constant(embedding_matrix),\n",
    "                                 trainable=True,\n",
    "                                 input_shape=(None, )))\n",
    "model_rnn.add(keras.layers.LSTM(8, kernel_regularizer=l2))\n",
    "model_rnn.add(keras.layers.Dense(8, activation='relu', kernel_regularizer=l2))\n",
    "model_rnn.add(keras.layers.Dense(1, activation='sigmoid'))\n",
    "\n",
    "model_rnn.compile(optimizer='adam', loss='binary_crossentropy', metrics=['accuracy'])\n",
    "\n",
    "history_rnn=model_rnn.fit(partial_x_train, partial_y_train, epochs=epochs, batch_size=512, validation_data=(x_val, y_val), verbose=1)\n",
    "print(\"test result accuracy : {}\".format(model.evaluate(x_test, y_test, verbose=2)[1]))\n",
    "history_dict_rnn=history_rnn.history\n",
    "acc=history_dict_rnn['accuracy']\n",
    "loss=history_dict_rnn['loss']\n",
    "val_acc=history_dict_rnn['val_accuracy']\n",
    "val_loss=history_dict_rnn['val_loss']\n",
    "epoch_axis=range(1,epochs+1)\n",
    "\n",
    "fig=plt.figure(figsize=(10,5))\n",
    "plt.plot(epoch_axis, loss, 'bo', label='Training loss')\n",
    "plt.plot(epoch_axis, val_loss, 'b', label='validation loss')\n",
    "plt.title('Training and validation loss')\n",
    "plt.show()\n",
    "\n",
    "fig2=plt.figure(figsize=(10,5))\n",
    "plt.plot(epoch_axis, acc, 'ro', label='Training accuracy')\n",
    "plt.plot(epoch_axis, val_acc, 'r', label='Validation accuracy')\n",
    "plt.title('Training and validation accuracy')\n",
    "plt.show()"
   ]
  },
  {
   "cell_type": "markdown",
   "metadata": {},
   "source": [
    "### (2) Regularize term : lambda 0.1 _ Accuracy : 87%"
   ]
  },
  {
   "cell_type": "code",
   "execution_count": 46,
   "metadata": {},
   "outputs": [
    {
     "name": "stdout",
     "output_type": "stream",
     "text": [
      "Epoch 1/25\n",
      "69/69 [==============================] - 12s 176ms/step - loss: 4.1456 - accuracy: 0.6001 - val_loss: 2.1677 - val_accuracy: 0.6656\n",
      "Epoch 2/25\n",
      "69/69 [==============================] - 12s 172ms/step - loss: 1.4939 - accuracy: 0.7515 - val_loss: 1.0861 - val_accuracy: 0.8350\n",
      "Epoch 3/25\n",
      "69/69 [==============================] - 11s 166ms/step - loss: 0.9293 - accuracy: 0.8331 - val_loss: 0.8055 - val_accuracy: 0.8580\n",
      "Epoch 4/25\n",
      "69/69 [==============================] - 11s 166ms/step - loss: 0.7330 - accuracy: 0.8625 - val_loss: 0.6944 - val_accuracy: 0.8404\n",
      "Epoch 5/25\n",
      "69/69 [==============================] - 12s 167ms/step - loss: 0.6167 - accuracy: 0.8785 - val_loss: 0.5758 - val_accuracy: 0.8776\n",
      "Epoch 6/25\n",
      "69/69 [==============================] - 11s 166ms/step - loss: 0.5295 - accuracy: 0.8913 - val_loss: 0.5167 - val_accuracy: 0.8744\n",
      "Epoch 7/25\n",
      "69/69 [==============================] - 11s 166ms/step - loss: 0.4727 - accuracy: 0.8959 - val_loss: 0.4691 - val_accuracy: 0.8790\n",
      "Epoch 8/25\n",
      "69/69 [==============================] - 11s 166ms/step - loss: 0.4216 - accuracy: 0.9079 - val_loss: 0.4567 - val_accuracy: 0.8764\n",
      "Epoch 9/25\n",
      "69/69 [==============================] - 11s 167ms/step - loss: 0.4939 - accuracy: 0.8562 - val_loss: 0.4462 - val_accuracy: 0.8712\n",
      "Epoch 10/25\n",
      "69/69 [==============================] - 11s 167ms/step - loss: 0.3788 - accuracy: 0.9110 - val_loss: 0.4187 - val_accuracy: 0.8794\n",
      "Epoch 11/25\n",
      "69/69 [==============================] - 11s 166ms/step - loss: 0.3814 - accuracy: 0.8983 - val_loss: 0.3980 - val_accuracy: 0.8842\n",
      "Epoch 12/25\n",
      "69/69 [==============================] - 12s 170ms/step - loss: 0.5229 - accuracy: 0.8293 - val_loss: 0.6602 - val_accuracy: 0.7492\n",
      "Epoch 13/25\n",
      "69/69 [==============================] - 12s 177ms/step - loss: 0.4461 - accuracy: 0.8780 - val_loss: 0.4176 - val_accuracy: 0.8778\n",
      "Epoch 14/25\n",
      "69/69 [==============================] - 12s 167ms/step - loss: 0.3341 - accuracy: 0.9197 - val_loss: 0.3819 - val_accuracy: 0.8864\n",
      "Epoch 15/25\n",
      "69/69 [==============================] - 12s 169ms/step - loss: 0.3073 - accuracy: 0.9282 - val_loss: 0.3832 - val_accuracy: 0.8816\n",
      "Epoch 16/25\n",
      "69/69 [==============================] - 12s 173ms/step - loss: 0.3118 - accuracy: 0.9232 - val_loss: 0.3833 - val_accuracy: 0.8814\n",
      "Epoch 17/25\n",
      "69/69 [==============================] - 11s 166ms/step - loss: 0.3055 - accuracy: 0.9264 - val_loss: 0.3983 - val_accuracy: 0.8712\n",
      "Epoch 18/25\n",
      "69/69 [==============================] - 12s 170ms/step - loss: 0.7632 - accuracy: 0.6886 - val_loss: 0.5879 - val_accuracy: 0.7922\n",
      "Epoch 19/25\n",
      "69/69 [==============================] - 11s 167ms/step - loss: 0.4091 - accuracy: 0.9007 - val_loss: 0.4468 - val_accuracy: 0.8582\n",
      "Epoch 20/25\n",
      "69/69 [==============================] - 12s 167ms/step - loss: 0.3574 - accuracy: 0.9117 - val_loss: 0.4207 - val_accuracy: 0.8746\n",
      "Epoch 21/25\n",
      "69/69 [==============================] - 12s 169ms/step - loss: 0.3134 - accuracy: 0.9262 - val_loss: 0.3921 - val_accuracy: 0.8800\n",
      "Epoch 22/25\n",
      "69/69 [==============================] - 11s 166ms/step - loss: 0.5440 - accuracy: 0.8328 - val_loss: 0.7184 - val_accuracy: 0.7654\n",
      "Epoch 23/25\n",
      "69/69 [==============================] - 11s 166ms/step - loss: 0.5323 - accuracy: 0.8677 - val_loss: 0.5131 - val_accuracy: 0.8476\n",
      "Epoch 24/25\n",
      "69/69 [==============================] - 11s 167ms/step - loss: 0.4325 - accuracy: 0.8890 - val_loss: 0.5538 - val_accuracy: 0.8344\n",
      "Epoch 25/25\n",
      "69/69 [==============================] - 12s 167ms/step - loss: 0.3961 - accuracy: 0.8996 - val_loss: 0.5223 - val_accuracy: 0.8444\n",
      "313/313 - 3s - loss: 0.4410 - accuracy: 0.8733\n",
      "test result accuracy : 0.8733000159263611\n"
     ]
    },
    {
     "data": {
      "image/png": "[encoded data removed]",
      "text/plain": [
       "<Figure size 720x360 with 1 Axes>"
      ]
     },
     "metadata": {
      "needs_background": "light"
     },
     "output_type": "display_data"
    },
    {
     "data": {
      "image/png": "[encoded data removed]",
      "text/plain": [
       "<Figure size 720x360 with 1 Axes>"
      ]
     },
     "metadata": {
      "needs_background": "light"
     },
     "output_type": "display_data"
    }
   ],
   "source": [
    "from keras.regularizers import l2\n",
    "l2=l2(0.1)\n",
    "model_rnn=keras.Sequential()\n",
    "vocab_size=vocab_size\n",
    "word_vector_dim=300\n",
    "epochs=25\n",
    "\n",
    "model_rnn.add(keras.layers.Embedding(vocab_size, word_vector_dim,\n",
    "                                 embeddings_initializer=Constant(embedding_matrix),\n",
    "                                 trainable=True,\n",
    "                                 input_shape=(None, )))\n",
    "model_rnn.add(keras.layers.LSTM(8, kernel_regularizer=l2))\n",
    "model_rnn.add(keras.layers.Dense(8, activation='relu', kernel_regularizer=l2))\n",
    "model_rnn.add(keras.layers.Dense(1, activation='sigmoid'))\n",
    "\n",
    "model_rnn.compile(optimizer='adam', loss='binary_crossentropy', metrics=['accuracy'])\n",
    "\n",
    "history_rnn=model_rnn.fit(partial_x_train, partial_y_train, epochs=epochs, batch_size=512, validation_data=(x_val, y_val), verbose=1)\n",
    "print(\"test result accuracy : {}\".format(model.evaluate(x_test, y_test, verbose=2)[1]))\n",
    "history_dict_rnn=history_rnn.history\n",
    "acc=history_dict_rnn['accuracy']\n",
    "loss=history_dict_rnn['loss']\n",
    "val_acc=history_dict_rnn['val_accuracy']\n",
    "val_loss=history_dict_rnn['val_loss']\n",
    "epoch_axis=range(1,epochs+1)\n",
    "\n",
    "fig=plt.figure(figsize=(10,5))\n",
    "plt.plot(epoch_axis, loss, 'bo', label='Training loss')\n",
    "plt.plot(epoch_axis, val_loss, 'b', label='validation loss')\n",
    "plt.title('Training and validation loss')\n",
    "plt.show()\n",
    "\n",
    "fig2=plt.figure(figsize=(10,5))\n",
    "plt.plot(epoch_axis, acc, 'ro', label='Training accuracy')\n",
    "plt.plot(epoch_axis, val_acc, 'r', label='Validation accuracy')\n",
    "plt.title('Training and validation accuracy')\n",
    "plt.show()"
   ]
  },
  {
   "cell_type": "code",
   "execution_count": null,
   "metadata": {},
   "outputs": [],
   "source": []
  }
 ],
 "metadata": {
  "accelerator": "TPU",
  "colab": {
   "collapsed_sections": [],
   "machine_shape": "hm",
   "name": "[E9]자연어감성분석_imdb sentiment analysis.ipynb",
   "provenance": []
  },
  "kernelspec": {
   "display_name": "Python 3",
   "language": "python",
   "name": "python3"
  },
  "language_info": {
   "codemirror_mode": {
    "name": "ipython",
    "version": 3
   },
   "file_extension": ".py",
   "mimetype": "text/x-python",
   "name": "python",
   "nbconvert_exporter": "python",
   "pygments_lexer": "ipython3",
   "version": "3.7.9"
  }
 },
 "nbformat": 4,
 "nbformat_minor": 1
}
